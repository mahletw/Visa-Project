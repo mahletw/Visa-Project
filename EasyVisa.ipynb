{
 "cells": [
  {
   "cell_type": "markdown",
   "metadata": {
    "id": "qXFzmsJHFFVl"
   },
   "source": [
    "#EasyVisa Project"
   ]
  },
  {
   "cell_type": "markdown",
   "metadata": {
    "id": "bMJ-o8ksFfct"
   },
   "source": [
    "###**Context:**\n",
    "\n",
    "Business communities in the United States are facing high demand for human resources, but one of the constant challenges is identifying and attracting the right talent, which is perhaps the most important element in remaining competitive. Companies in the United States look for hard-working, talented, and qualified individuals both locally as well as abroad.\n",
    "\n",
    "The Immigration and Nationality Act (INA) of the US permits foreign workers to come to the United States to work on either a temporary or permanent basis. The act also protects US workers against adverse impacts on their wages or working conditions by ensuring US employers' compliance with statutory requirements when they hire foreign workers to fill workforce shortages. The immigration programs are administered by the Office of Foreign Labor Certification (OFLC).\n",
    "\n",
    "OFLC processes job certification applications for employers seeking to bring foreign workers into the United States and grants certifications in those cases where employers can demonstrate that there are not sufficient US workers available to perform the work at wages that meet or exceed the wage paid for the occupation in the area of intended employment.\n",
    "\n"
   ]
  },
  {
   "cell_type": "markdown",
   "metadata": {
    "id": "UY-mQH9pFnKQ"
   },
   "source": [
    "###**Objective:**\n",
    "\n",
    "In FY 2016, the OFLC processed 775,979 employer applications for 1,699,957 positions for temporary and permanent labor certifications. This was a nine percent increase in the overall number of processed applications from the previous year. The process of reviewing every case is becoming a tedious task as the number of applicants is increasing every year.\n",
    "\n",
    "The increasing number of applicants every year calls for a Machine Learning based solution that can help in shortlisting the candidates having higher chances of VISA approval. OFLC has hired your firm EasyVisa for data-driven solutions. You as a data scientist have to analyze the data provided and, with the help of a classification model:\n",
    "\n",
    "Facilitate the process of visa approvals.\n",
    "Recommend a suitable profile for the applicants for whom the visa should be certified or denied based on the drivers that significantly influence the case status."
   ]
  },
  {
   "cell_type": "markdown",
   "metadata": {
    "id": "MryswcCLF_-a"
   },
   "source": [
    "###**Data Description**\n",
    "\n",
    "The data contains the different attributes of the employee and the employer. The detailed data dictionary is given below.\n",
    "\n",
    "* case_id: ID of each visa application\n",
    "* continent: Information of continent the employee\n",
    "* education_of_employee: Information of education of the employee\n",
    "* has_job_experience: Does the employee has any job experience? Y= Yes; N = No\n",
    "* requires_job_training: Does the employee require any job training? Y = Yes; N = No\n",
    "* no_of_employees: Number of employees in the employer's company\n",
    "* yr_of_estab: Year in which the employer's company was established\n",
    "* region_of_employment: Information of foreign worker's intended region of employment in the US.\n",
    "* prevailing_wage: Average wage paid to similarly employed workers in a specific occupation in the area of intended employment. The purpose of the prevailing wage is to ensure that the foreign worker is not underpaid compared to other workers offering the same or similar service in the same area of employment.\n",
    "* unit_of_wage: Unit of prevailing wage. Values include Hourly, Weekly, Monthly, and Yearly.\n",
    "* full_time_position: Is the position of work full-time? Y = Full Time Position; N = Part Time Position\n",
    "* case_status: Flag indicating if the Visa was certified or denied"
   ]
  },
  {
   "cell_type": "code",
   "execution_count": 41,
   "metadata": {
    "id": "ZwQv0pi7FeTk"
   },
   "outputs": [],
   "source": [
    "import warnings\n",
    "warnings.filterwarnings('ignore')\n",
    "import numpy as np\n",
    "import pandas as pd\n",
    "import matplotlib.pyplot as plt\n",
    "%matplotlib inline\n",
    "import seaborn as sns\n",
    "from sklearn.model_selection import train_test_split\n",
    "from sklearn.ensemble import BaggingClassifier\n",
    "from sklearn.ensemble import RandomForestClassifier\n",
    "from sklearn.tree import DecisionTreeClassifier\n",
    "from sklearn import tree\n",
    "from sklearn import metrics\n",
    "from sklearn.metrics import confusion_matrix, classification_report, accuracy_score, precision_score, recall_score,f1_score,roc_auc_score\n",
    "from sklearn.ensemble import (BaggingClassifier,RandomForestClassifier, \n",
    "                              GradientBoostingClassifier, AdaBoostClassifier, StackingClassifier)\n",
    "from xgboost import XGBClassifier\n",
    "from sklearn.model_selection import train_test_split\n",
    "from sklearn.model_selection import GridSearchCV, RandomizedSearchCV"
   ]
  },
  {
   "cell_type": "code",
   "execution_count": 2,
   "metadata": {
    "colab": {
     "base_uri": "https://localhost:8080/"
    },
    "id": "vrSmiNrqe-lG",
    "outputId": "a0cc19dd-f34d-44af-9c4a-385c2d395436"
   },
   "outputs": [
    {
     "name": "stdout",
     "output_type": "stream",
     "text": [
      "Mounted at /content/drive\n"
     ]
    }
   ],
   "source": [
    "from google.colab import drive\n",
    "drive.mount('/content/drive')"
   ]
  },
  {
   "cell_type": "code",
   "execution_count": 3,
   "metadata": {
    "colab": {
     "base_uri": "https://localhost:8080/",
     "height": 488
    },
    "id": "mUkE7ixeFV5F",
    "outputId": "0ebdce58-1184-46b8-8465-05622a64f263"
   },
   "outputs": [
    {
     "data": {
      "text/html": [
       "\n",
       "  <div id=\"df-e1d43e37-aa1b-4b32-8686-866d6d7fb281\">\n",
       "    <div class=\"colab-df-container\">\n",
       "      <div>\n",
       "<style scoped>\n",
       "    .dataframe tbody tr th:only-of-type {\n",
       "        vertical-align: middle;\n",
       "    }\n",
       "\n",
       "    .dataframe tbody tr th {\n",
       "        vertical-align: top;\n",
       "    }\n",
       "\n",
       "    .dataframe thead th {\n",
       "        text-align: right;\n",
       "    }\n",
       "</style>\n",
       "<table border=\"1\" class=\"dataframe\">\n",
       "  <thead>\n",
       "    <tr style=\"text-align: right;\">\n",
       "      <th></th>\n",
       "      <th>case_id</th>\n",
       "      <th>continent</th>\n",
       "      <th>education_of_employee</th>\n",
       "      <th>has_job_experience</th>\n",
       "      <th>requires_job_training</th>\n",
       "      <th>no_of_employees</th>\n",
       "      <th>yr_of_estab</th>\n",
       "      <th>region_of_employment</th>\n",
       "      <th>prevailing_wage</th>\n",
       "      <th>unit_of_wage</th>\n",
       "      <th>full_time_position</th>\n",
       "      <th>case_status</th>\n",
       "    </tr>\n",
       "  </thead>\n",
       "  <tbody>\n",
       "    <tr>\n",
       "      <th>0</th>\n",
       "      <td>EZYV01</td>\n",
       "      <td>Asia</td>\n",
       "      <td>High School</td>\n",
       "      <td>N</td>\n",
       "      <td>N</td>\n",
       "      <td>14513</td>\n",
       "      <td>2007</td>\n",
       "      <td>West</td>\n",
       "      <td>592.2029</td>\n",
       "      <td>Hour</td>\n",
       "      <td>Y</td>\n",
       "      <td>Denied</td>\n",
       "    </tr>\n",
       "    <tr>\n",
       "      <th>1</th>\n",
       "      <td>EZYV02</td>\n",
       "      <td>Asia</td>\n",
       "      <td>Master's</td>\n",
       "      <td>Y</td>\n",
       "      <td>N</td>\n",
       "      <td>2412</td>\n",
       "      <td>2002</td>\n",
       "      <td>Northeast</td>\n",
       "      <td>83425.6500</td>\n",
       "      <td>Year</td>\n",
       "      <td>Y</td>\n",
       "      <td>Certified</td>\n",
       "    </tr>\n",
       "    <tr>\n",
       "      <th>2</th>\n",
       "      <td>EZYV03</td>\n",
       "      <td>Asia</td>\n",
       "      <td>Bachelor's</td>\n",
       "      <td>N</td>\n",
       "      <td>Y</td>\n",
       "      <td>44444</td>\n",
       "      <td>2008</td>\n",
       "      <td>West</td>\n",
       "      <td>122996.8600</td>\n",
       "      <td>Year</td>\n",
       "      <td>Y</td>\n",
       "      <td>Denied</td>\n",
       "    </tr>\n",
       "    <tr>\n",
       "      <th>3</th>\n",
       "      <td>EZYV04</td>\n",
       "      <td>Asia</td>\n",
       "      <td>Bachelor's</td>\n",
       "      <td>N</td>\n",
       "      <td>N</td>\n",
       "      <td>98</td>\n",
       "      <td>1897</td>\n",
       "      <td>West</td>\n",
       "      <td>83434.0300</td>\n",
       "      <td>Year</td>\n",
       "      <td>Y</td>\n",
       "      <td>Denied</td>\n",
       "    </tr>\n",
       "    <tr>\n",
       "      <th>4</th>\n",
       "      <td>EZYV05</td>\n",
       "      <td>Africa</td>\n",
       "      <td>Master's</td>\n",
       "      <td>Y</td>\n",
       "      <td>N</td>\n",
       "      <td>1082</td>\n",
       "      <td>2005</td>\n",
       "      <td>South</td>\n",
       "      <td>149907.3900</td>\n",
       "      <td>Year</td>\n",
       "      <td>Y</td>\n",
       "      <td>Certified</td>\n",
       "    </tr>\n",
       "    <tr>\n",
       "      <th>...</th>\n",
       "      <td>...</td>\n",
       "      <td>...</td>\n",
       "      <td>...</td>\n",
       "      <td>...</td>\n",
       "      <td>...</td>\n",
       "      <td>...</td>\n",
       "      <td>...</td>\n",
       "      <td>...</td>\n",
       "      <td>...</td>\n",
       "      <td>...</td>\n",
       "      <td>...</td>\n",
       "      <td>...</td>\n",
       "    </tr>\n",
       "    <tr>\n",
       "      <th>25475</th>\n",
       "      <td>EZYV25476</td>\n",
       "      <td>Asia</td>\n",
       "      <td>Bachelor's</td>\n",
       "      <td>Y</td>\n",
       "      <td>Y</td>\n",
       "      <td>2601</td>\n",
       "      <td>2008</td>\n",
       "      <td>South</td>\n",
       "      <td>77092.5700</td>\n",
       "      <td>Year</td>\n",
       "      <td>Y</td>\n",
       "      <td>Certified</td>\n",
       "    </tr>\n",
       "    <tr>\n",
       "      <th>25476</th>\n",
       "      <td>EZYV25477</td>\n",
       "      <td>Asia</td>\n",
       "      <td>High School</td>\n",
       "      <td>Y</td>\n",
       "      <td>N</td>\n",
       "      <td>3274</td>\n",
       "      <td>2006</td>\n",
       "      <td>Northeast</td>\n",
       "      <td>279174.7900</td>\n",
       "      <td>Year</td>\n",
       "      <td>Y</td>\n",
       "      <td>Certified</td>\n",
       "    </tr>\n",
       "    <tr>\n",
       "      <th>25477</th>\n",
       "      <td>EZYV25478</td>\n",
       "      <td>Asia</td>\n",
       "      <td>Master's</td>\n",
       "      <td>Y</td>\n",
       "      <td>N</td>\n",
       "      <td>1121</td>\n",
       "      <td>1910</td>\n",
       "      <td>South</td>\n",
       "      <td>146298.8500</td>\n",
       "      <td>Year</td>\n",
       "      <td>N</td>\n",
       "      <td>Certified</td>\n",
       "    </tr>\n",
       "    <tr>\n",
       "      <th>25478</th>\n",
       "      <td>EZYV25479</td>\n",
       "      <td>Asia</td>\n",
       "      <td>Master's</td>\n",
       "      <td>Y</td>\n",
       "      <td>Y</td>\n",
       "      <td>1918</td>\n",
       "      <td>1887</td>\n",
       "      <td>West</td>\n",
       "      <td>86154.7700</td>\n",
       "      <td>Year</td>\n",
       "      <td>Y</td>\n",
       "      <td>Certified</td>\n",
       "    </tr>\n",
       "    <tr>\n",
       "      <th>25479</th>\n",
       "      <td>EZYV25480</td>\n",
       "      <td>Asia</td>\n",
       "      <td>Bachelor's</td>\n",
       "      <td>Y</td>\n",
       "      <td>N</td>\n",
       "      <td>3195</td>\n",
       "      <td>1960</td>\n",
       "      <td>Midwest</td>\n",
       "      <td>70876.9100</td>\n",
       "      <td>Year</td>\n",
       "      <td>Y</td>\n",
       "      <td>Certified</td>\n",
       "    </tr>\n",
       "  </tbody>\n",
       "</table>\n",
       "<p>25480 rows × 12 columns</p>\n",
       "</div>\n",
       "      <button class=\"colab-df-convert\" onclick=\"convertToInteractive('df-e1d43e37-aa1b-4b32-8686-866d6d7fb281')\"\n",
       "              title=\"Convert this dataframe to an interactive table.\"\n",
       "              style=\"display:none;\">\n",
       "        \n",
       "  <svg xmlns=\"http://www.w3.org/2000/svg\" height=\"24px\"viewBox=\"0 0 24 24\"\n",
       "       width=\"24px\">\n",
       "    <path d=\"M0 0h24v24H0V0z\" fill=\"none\"/>\n",
       "    <path d=\"M18.56 5.44l.94 2.06.94-2.06 2.06-.94-2.06-.94-.94-2.06-.94 2.06-2.06.94zm-11 1L8.5 8.5l.94-2.06 2.06-.94-2.06-.94L8.5 2.5l-.94 2.06-2.06.94zm10 10l.94 2.06.94-2.06 2.06-.94-2.06-.94-.94-2.06-.94 2.06-2.06.94z\"/><path d=\"M17.41 7.96l-1.37-1.37c-.4-.4-.92-.59-1.43-.59-.52 0-1.04.2-1.43.59L10.3 9.45l-7.72 7.72c-.78.78-.78 2.05 0 2.83L4 21.41c.39.39.9.59 1.41.59.51 0 1.02-.2 1.41-.59l7.78-7.78 2.81-2.81c.8-.78.8-2.07 0-2.86zM5.41 20L4 18.59l7.72-7.72 1.47 1.35L5.41 20z\"/>\n",
       "  </svg>\n",
       "      </button>\n",
       "      \n",
       "  <style>\n",
       "    .colab-df-container {\n",
       "      display:flex;\n",
       "      flex-wrap:wrap;\n",
       "      gap: 12px;\n",
       "    }\n",
       "\n",
       "    .colab-df-convert {\n",
       "      background-color: #E8F0FE;\n",
       "      border: none;\n",
       "      border-radius: 50%;\n",
       "      cursor: pointer;\n",
       "      display: none;\n",
       "      fill: #1967D2;\n",
       "      height: 32px;\n",
       "      padding: 0 0 0 0;\n",
       "      width: 32px;\n",
       "    }\n",
       "\n",
       "    .colab-df-convert:hover {\n",
       "      background-color: #E2EBFA;\n",
       "      box-shadow: 0px 1px 2px rgba(60, 64, 67, 0.3), 0px 1px 3px 1px rgba(60, 64, 67, 0.15);\n",
       "      fill: #174EA6;\n",
       "    }\n",
       "\n",
       "    [theme=dark] .colab-df-convert {\n",
       "      background-color: #3B4455;\n",
       "      fill: #D2E3FC;\n",
       "    }\n",
       "\n",
       "    [theme=dark] .colab-df-convert:hover {\n",
       "      background-color: #434B5C;\n",
       "      box-shadow: 0px 1px 3px 1px rgba(0, 0, 0, 0.15);\n",
       "      filter: drop-shadow(0px 1px 2px rgba(0, 0, 0, 0.3));\n",
       "      fill: #FFFFFF;\n",
       "    }\n",
       "  </style>\n",
       "\n",
       "      <script>\n",
       "        const buttonEl =\n",
       "          document.querySelector('#df-e1d43e37-aa1b-4b32-8686-866d6d7fb281 button.colab-df-convert');\n",
       "        buttonEl.style.display =\n",
       "          google.colab.kernel.accessAllowed ? 'block' : 'none';\n",
       "\n",
       "        async function convertToInteractive(key) {\n",
       "          const element = document.querySelector('#df-e1d43e37-aa1b-4b32-8686-866d6d7fb281');\n",
       "          const dataTable =\n",
       "            await google.colab.kernel.invokeFunction('convertToInteractive',\n",
       "                                                     [key], {});\n",
       "          if (!dataTable) return;\n",
       "\n",
       "          const docLinkHtml = 'Like what you see? Visit the ' +\n",
       "            '<a target=\"_blank\" href=https://colab.research.google.com/notebooks/data_table.ipynb>data table notebook</a>'\n",
       "            + ' to learn more about interactive tables.';\n",
       "          element.innerHTML = '';\n",
       "          dataTable['output_type'] = 'display_data';\n",
       "          await google.colab.output.renderOutput(dataTable, element);\n",
       "          const docLink = document.createElement('div');\n",
       "          docLink.innerHTML = docLinkHtml;\n",
       "          element.appendChild(docLink);\n",
       "        }\n",
       "      </script>\n",
       "    </div>\n",
       "  </div>\n",
       "  "
      ],
      "text/plain": [
       "         case_id continent education_of_employee has_job_experience  \\\n",
       "0         EZYV01      Asia           High School                  N   \n",
       "1         EZYV02      Asia              Master's                  Y   \n",
       "2         EZYV03      Asia            Bachelor's                  N   \n",
       "3         EZYV04      Asia            Bachelor's                  N   \n",
       "4         EZYV05    Africa              Master's                  Y   \n",
       "...          ...       ...                   ...                ...   \n",
       "25475  EZYV25476      Asia            Bachelor's                  Y   \n",
       "25476  EZYV25477      Asia           High School                  Y   \n",
       "25477  EZYV25478      Asia              Master's                  Y   \n",
       "25478  EZYV25479      Asia              Master's                  Y   \n",
       "25479  EZYV25480      Asia            Bachelor's                  Y   \n",
       "\n",
       "      requires_job_training  no_of_employees  yr_of_estab  \\\n",
       "0                         N            14513         2007   \n",
       "1                         N             2412         2002   \n",
       "2                         Y            44444         2008   \n",
       "3                         N               98         1897   \n",
       "4                         N             1082         2005   \n",
       "...                     ...              ...          ...   \n",
       "25475                     Y             2601         2008   \n",
       "25476                     N             3274         2006   \n",
       "25477                     N             1121         1910   \n",
       "25478                     Y             1918         1887   \n",
       "25479                     N             3195         1960   \n",
       "\n",
       "      region_of_employment  prevailing_wage unit_of_wage full_time_position  \\\n",
       "0                     West         592.2029         Hour                  Y   \n",
       "1                Northeast       83425.6500         Year                  Y   \n",
       "2                     West      122996.8600         Year                  Y   \n",
       "3                     West       83434.0300         Year                  Y   \n",
       "4                    South      149907.3900         Year                  Y   \n",
       "...                    ...              ...          ...                ...   \n",
       "25475                South       77092.5700         Year                  Y   \n",
       "25476            Northeast      279174.7900         Year                  Y   \n",
       "25477                South      146298.8500         Year                  N   \n",
       "25478                 West       86154.7700         Year                  Y   \n",
       "25479              Midwest       70876.9100         Year                  Y   \n",
       "\n",
       "      case_status  \n",
       "0          Denied  \n",
       "1       Certified  \n",
       "2          Denied  \n",
       "3          Denied  \n",
       "4       Certified  \n",
       "...           ...  \n",
       "25475   Certified  \n",
       "25476   Certified  \n",
       "25477   Certified  \n",
       "25478   Certified  \n",
       "25479   Certified  \n",
       "\n",
       "[25480 rows x 12 columns]"
      ]
     },
     "execution_count": 3,
     "metadata": {},
     "output_type": "execute_result"
    }
   ],
   "source": [
    "df = \"/content/drive/MyDrive/EasyVisa.csv\" \n",
    "df = pd.read_csv(df)\n",
    "df"
   ]
  },
  {
   "cell_type": "code",
   "execution_count": 4,
   "metadata": {
    "id": "qCvH-ZrQfOxB"
   },
   "outputs": [],
   "source": [
    "evisa = df.copy()"
   ]
  },
  {
   "cell_type": "code",
   "execution_count": null,
   "metadata": {
    "colab": {
     "base_uri": "https://localhost:8080/",
     "height": 270
    },
    "id": "BvQXFJFgfgbf",
    "outputId": "e284c075-63be-4444-9099-56aa34b8cba9"
   },
   "outputs": [
    {
     "data": {
      "text/html": [
       "\n",
       "  <div id=\"df-a2e1dc35-d849-4d24-880d-98a98267e303\">\n",
       "    <div class=\"colab-df-container\">\n",
       "      <div>\n",
       "<style scoped>\n",
       "    .dataframe tbody tr th:only-of-type {\n",
       "        vertical-align: middle;\n",
       "    }\n",
       "\n",
       "    .dataframe tbody tr th {\n",
       "        vertical-align: top;\n",
       "    }\n",
       "\n",
       "    .dataframe thead th {\n",
       "        text-align: right;\n",
       "    }\n",
       "</style>\n",
       "<table border=\"1\" class=\"dataframe\">\n",
       "  <thead>\n",
       "    <tr style=\"text-align: right;\">\n",
       "      <th></th>\n",
       "      <th>case_id</th>\n",
       "      <th>continent</th>\n",
       "      <th>education_of_employee</th>\n",
       "      <th>has_job_experience</th>\n",
       "      <th>requires_job_training</th>\n",
       "      <th>no_of_employees</th>\n",
       "      <th>yr_of_estab</th>\n",
       "      <th>region_of_employment</th>\n",
       "      <th>prevailing_wage</th>\n",
       "      <th>unit_of_wage</th>\n",
       "      <th>full_time_position</th>\n",
       "      <th>case_status</th>\n",
       "    </tr>\n",
       "  </thead>\n",
       "  <tbody>\n",
       "    <tr>\n",
       "      <th>0</th>\n",
       "      <td>EZYV01</td>\n",
       "      <td>Asia</td>\n",
       "      <td>High School</td>\n",
       "      <td>N</td>\n",
       "      <td>N</td>\n",
       "      <td>14513</td>\n",
       "      <td>2007</td>\n",
       "      <td>West</td>\n",
       "      <td>592.2029</td>\n",
       "      <td>Hour</td>\n",
       "      <td>Y</td>\n",
       "      <td>Denied</td>\n",
       "    </tr>\n",
       "    <tr>\n",
       "      <th>1</th>\n",
       "      <td>EZYV02</td>\n",
       "      <td>Asia</td>\n",
       "      <td>Master's</td>\n",
       "      <td>Y</td>\n",
       "      <td>N</td>\n",
       "      <td>2412</td>\n",
       "      <td>2002</td>\n",
       "      <td>Northeast</td>\n",
       "      <td>83425.6500</td>\n",
       "      <td>Year</td>\n",
       "      <td>Y</td>\n",
       "      <td>Certified</td>\n",
       "    </tr>\n",
       "    <tr>\n",
       "      <th>2</th>\n",
       "      <td>EZYV03</td>\n",
       "      <td>Asia</td>\n",
       "      <td>Bachelor's</td>\n",
       "      <td>N</td>\n",
       "      <td>Y</td>\n",
       "      <td>44444</td>\n",
       "      <td>2008</td>\n",
       "      <td>West</td>\n",
       "      <td>122996.8600</td>\n",
       "      <td>Year</td>\n",
       "      <td>Y</td>\n",
       "      <td>Denied</td>\n",
       "    </tr>\n",
       "    <tr>\n",
       "      <th>3</th>\n",
       "      <td>EZYV04</td>\n",
       "      <td>Asia</td>\n",
       "      <td>Bachelor's</td>\n",
       "      <td>N</td>\n",
       "      <td>N</td>\n",
       "      <td>98</td>\n",
       "      <td>1897</td>\n",
       "      <td>West</td>\n",
       "      <td>83434.0300</td>\n",
       "      <td>Year</td>\n",
       "      <td>Y</td>\n",
       "      <td>Denied</td>\n",
       "    </tr>\n",
       "    <tr>\n",
       "      <th>4</th>\n",
       "      <td>EZYV05</td>\n",
       "      <td>Africa</td>\n",
       "      <td>Master's</td>\n",
       "      <td>Y</td>\n",
       "      <td>N</td>\n",
       "      <td>1082</td>\n",
       "      <td>2005</td>\n",
       "      <td>South</td>\n",
       "      <td>149907.3900</td>\n",
       "      <td>Year</td>\n",
       "      <td>Y</td>\n",
       "      <td>Certified</td>\n",
       "    </tr>\n",
       "  </tbody>\n",
       "</table>\n",
       "</div>\n",
       "      <button class=\"colab-df-convert\" onclick=\"convertToInteractive('df-a2e1dc35-d849-4d24-880d-98a98267e303')\"\n",
       "              title=\"Convert this dataframe to an interactive table.\"\n",
       "              style=\"display:none;\">\n",
       "        \n",
       "  <svg xmlns=\"http://www.w3.org/2000/svg\" height=\"24px\"viewBox=\"0 0 24 24\"\n",
       "       width=\"24px\">\n",
       "    <path d=\"M0 0h24v24H0V0z\" fill=\"none\"/>\n",
       "    <path d=\"M18.56 5.44l.94 2.06.94-2.06 2.06-.94-2.06-.94-.94-2.06-.94 2.06-2.06.94zm-11 1L8.5 8.5l.94-2.06 2.06-.94-2.06-.94L8.5 2.5l-.94 2.06-2.06.94zm10 10l.94 2.06.94-2.06 2.06-.94-2.06-.94-.94-2.06-.94 2.06-2.06.94z\"/><path d=\"M17.41 7.96l-1.37-1.37c-.4-.4-.92-.59-1.43-.59-.52 0-1.04.2-1.43.59L10.3 9.45l-7.72 7.72c-.78.78-.78 2.05 0 2.83L4 21.41c.39.39.9.59 1.41.59.51 0 1.02-.2 1.41-.59l7.78-7.78 2.81-2.81c.8-.78.8-2.07 0-2.86zM5.41 20L4 18.59l7.72-7.72 1.47 1.35L5.41 20z\"/>\n",
       "  </svg>\n",
       "      </button>\n",
       "      \n",
       "  <style>\n",
       "    .colab-df-container {\n",
       "      display:flex;\n",
       "      flex-wrap:wrap;\n",
       "      gap: 12px;\n",
       "    }\n",
       "\n",
       "    .colab-df-convert {\n",
       "      background-color: #E8F0FE;\n",
       "      border: none;\n",
       "      border-radius: 50%;\n",
       "      cursor: pointer;\n",
       "      display: none;\n",
       "      fill: #1967D2;\n",
       "      height: 32px;\n",
       "      padding: 0 0 0 0;\n",
       "      width: 32px;\n",
       "    }\n",
       "\n",
       "    .colab-df-convert:hover {\n",
       "      background-color: #E2EBFA;\n",
       "      box-shadow: 0px 1px 2px rgba(60, 64, 67, 0.3), 0px 1px 3px 1px rgba(60, 64, 67, 0.15);\n",
       "      fill: #174EA6;\n",
       "    }\n",
       "\n",
       "    [theme=dark] .colab-df-convert {\n",
       "      background-color: #3B4455;\n",
       "      fill: #D2E3FC;\n",
       "    }\n",
       "\n",
       "    [theme=dark] .colab-df-convert:hover {\n",
       "      background-color: #434B5C;\n",
       "      box-shadow: 0px 1px 3px 1px rgba(0, 0, 0, 0.15);\n",
       "      filter: drop-shadow(0px 1px 2px rgba(0, 0, 0, 0.3));\n",
       "      fill: #FFFFFF;\n",
       "    }\n",
       "  </style>\n",
       "\n",
       "      <script>\n",
       "        const buttonEl =\n",
       "          document.querySelector('#df-a2e1dc35-d849-4d24-880d-98a98267e303 button.colab-df-convert');\n",
       "        buttonEl.style.display =\n",
       "          google.colab.kernel.accessAllowed ? 'block' : 'none';\n",
       "\n",
       "        async function convertToInteractive(key) {\n",
       "          const element = document.querySelector('#df-a2e1dc35-d849-4d24-880d-98a98267e303');\n",
       "          const dataTable =\n",
       "            await google.colab.kernel.invokeFunction('convertToInteractive',\n",
       "                                                     [key], {});\n",
       "          if (!dataTable) return;\n",
       "\n",
       "          const docLinkHtml = 'Like what you see? Visit the ' +\n",
       "            '<a target=\"_blank\" href=https://colab.research.google.com/notebooks/data_table.ipynb>data table notebook</a>'\n",
       "            + ' to learn more about interactive tables.';\n",
       "          element.innerHTML = '';\n",
       "          dataTable['output_type'] = 'display_data';\n",
       "          await google.colab.output.renderOutput(dataTable, element);\n",
       "          const docLink = document.createElement('div');\n",
       "          docLink.innerHTML = docLinkHtml;\n",
       "          element.appendChild(docLink);\n",
       "        }\n",
       "      </script>\n",
       "    </div>\n",
       "  </div>\n",
       "  "
      ],
      "text/plain": [
       "  case_id continent education_of_employee has_job_experience  \\\n",
       "0  EZYV01      Asia           High School                  N   \n",
       "1  EZYV02      Asia              Master's                  Y   \n",
       "2  EZYV03      Asia            Bachelor's                  N   \n",
       "3  EZYV04      Asia            Bachelor's                  N   \n",
       "4  EZYV05    Africa              Master's                  Y   \n",
       "\n",
       "  requires_job_training  no_of_employees  yr_of_estab region_of_employment  \\\n",
       "0                     N            14513         2007                 West   \n",
       "1                     N             2412         2002            Northeast   \n",
       "2                     Y            44444         2008                 West   \n",
       "3                     N               98         1897                 West   \n",
       "4                     N             1082         2005                South   \n",
       "\n",
       "   prevailing_wage unit_of_wage full_time_position case_status  \n",
       "0         592.2029         Hour                  Y      Denied  \n",
       "1       83425.6500         Year                  Y   Certified  \n",
       "2      122996.8600         Year                  Y      Denied  \n",
       "3       83434.0300         Year                  Y      Denied  \n",
       "4      149907.3900         Year                  Y   Certified  "
      ]
     },
     "execution_count": 12,
     "metadata": {},
     "output_type": "execute_result"
    }
   ],
   "source": [
    "evisa.head()"
   ]
  },
  {
   "cell_type": "code",
   "execution_count": null,
   "metadata": {
    "colab": {
     "base_uri": "https://localhost:8080/",
     "height": 270
    },
    "id": "A0u_A8c5fntb",
    "outputId": "e442eca0-2777-4303-a55c-49a417369657"
   },
   "outputs": [
    {
     "data": {
      "text/html": [
       "\n",
       "  <div id=\"df-c9b8edd4-b6cc-4e8e-a3b2-b29b2501e7ee\">\n",
       "    <div class=\"colab-df-container\">\n",
       "      <div>\n",
       "<style scoped>\n",
       "    .dataframe tbody tr th:only-of-type {\n",
       "        vertical-align: middle;\n",
       "    }\n",
       "\n",
       "    .dataframe tbody tr th {\n",
       "        vertical-align: top;\n",
       "    }\n",
       "\n",
       "    .dataframe thead th {\n",
       "        text-align: right;\n",
       "    }\n",
       "</style>\n",
       "<table border=\"1\" class=\"dataframe\">\n",
       "  <thead>\n",
       "    <tr style=\"text-align: right;\">\n",
       "      <th></th>\n",
       "      <th>case_id</th>\n",
       "      <th>continent</th>\n",
       "      <th>education_of_employee</th>\n",
       "      <th>has_job_experience</th>\n",
       "      <th>requires_job_training</th>\n",
       "      <th>no_of_employees</th>\n",
       "      <th>yr_of_estab</th>\n",
       "      <th>region_of_employment</th>\n",
       "      <th>prevailing_wage</th>\n",
       "      <th>unit_of_wage</th>\n",
       "      <th>full_time_position</th>\n",
       "      <th>case_status</th>\n",
       "    </tr>\n",
       "  </thead>\n",
       "  <tbody>\n",
       "    <tr>\n",
       "      <th>25475</th>\n",
       "      <td>EZYV25476</td>\n",
       "      <td>Asia</td>\n",
       "      <td>Bachelor's</td>\n",
       "      <td>Y</td>\n",
       "      <td>Y</td>\n",
       "      <td>2601</td>\n",
       "      <td>2008</td>\n",
       "      <td>South</td>\n",
       "      <td>77092.57</td>\n",
       "      <td>Year</td>\n",
       "      <td>Y</td>\n",
       "      <td>Certified</td>\n",
       "    </tr>\n",
       "    <tr>\n",
       "      <th>25476</th>\n",
       "      <td>EZYV25477</td>\n",
       "      <td>Asia</td>\n",
       "      <td>High School</td>\n",
       "      <td>Y</td>\n",
       "      <td>N</td>\n",
       "      <td>3274</td>\n",
       "      <td>2006</td>\n",
       "      <td>Northeast</td>\n",
       "      <td>279174.79</td>\n",
       "      <td>Year</td>\n",
       "      <td>Y</td>\n",
       "      <td>Certified</td>\n",
       "    </tr>\n",
       "    <tr>\n",
       "      <th>25477</th>\n",
       "      <td>EZYV25478</td>\n",
       "      <td>Asia</td>\n",
       "      <td>Master's</td>\n",
       "      <td>Y</td>\n",
       "      <td>N</td>\n",
       "      <td>1121</td>\n",
       "      <td>1910</td>\n",
       "      <td>South</td>\n",
       "      <td>146298.85</td>\n",
       "      <td>Year</td>\n",
       "      <td>N</td>\n",
       "      <td>Certified</td>\n",
       "    </tr>\n",
       "    <tr>\n",
       "      <th>25478</th>\n",
       "      <td>EZYV25479</td>\n",
       "      <td>Asia</td>\n",
       "      <td>Master's</td>\n",
       "      <td>Y</td>\n",
       "      <td>Y</td>\n",
       "      <td>1918</td>\n",
       "      <td>1887</td>\n",
       "      <td>West</td>\n",
       "      <td>86154.77</td>\n",
       "      <td>Year</td>\n",
       "      <td>Y</td>\n",
       "      <td>Certified</td>\n",
       "    </tr>\n",
       "    <tr>\n",
       "      <th>25479</th>\n",
       "      <td>EZYV25480</td>\n",
       "      <td>Asia</td>\n",
       "      <td>Bachelor's</td>\n",
       "      <td>Y</td>\n",
       "      <td>N</td>\n",
       "      <td>3195</td>\n",
       "      <td>1960</td>\n",
       "      <td>Midwest</td>\n",
       "      <td>70876.91</td>\n",
       "      <td>Year</td>\n",
       "      <td>Y</td>\n",
       "      <td>Certified</td>\n",
       "    </tr>\n",
       "  </tbody>\n",
       "</table>\n",
       "</div>\n",
       "      <button class=\"colab-df-convert\" onclick=\"convertToInteractive('df-c9b8edd4-b6cc-4e8e-a3b2-b29b2501e7ee')\"\n",
       "              title=\"Convert this dataframe to an interactive table.\"\n",
       "              style=\"display:none;\">\n",
       "        \n",
       "  <svg xmlns=\"http://www.w3.org/2000/svg\" height=\"24px\"viewBox=\"0 0 24 24\"\n",
       "       width=\"24px\">\n",
       "    <path d=\"M0 0h24v24H0V0z\" fill=\"none\"/>\n",
       "    <path d=\"M18.56 5.44l.94 2.06.94-2.06 2.06-.94-2.06-.94-.94-2.06-.94 2.06-2.06.94zm-11 1L8.5 8.5l.94-2.06 2.06-.94-2.06-.94L8.5 2.5l-.94 2.06-2.06.94zm10 10l.94 2.06.94-2.06 2.06-.94-2.06-.94-.94-2.06-.94 2.06-2.06.94z\"/><path d=\"M17.41 7.96l-1.37-1.37c-.4-.4-.92-.59-1.43-.59-.52 0-1.04.2-1.43.59L10.3 9.45l-7.72 7.72c-.78.78-.78 2.05 0 2.83L4 21.41c.39.39.9.59 1.41.59.51 0 1.02-.2 1.41-.59l7.78-7.78 2.81-2.81c.8-.78.8-2.07 0-2.86zM5.41 20L4 18.59l7.72-7.72 1.47 1.35L5.41 20z\"/>\n",
       "  </svg>\n",
       "      </button>\n",
       "      \n",
       "  <style>\n",
       "    .colab-df-container {\n",
       "      display:flex;\n",
       "      flex-wrap:wrap;\n",
       "      gap: 12px;\n",
       "    }\n",
       "\n",
       "    .colab-df-convert {\n",
       "      background-color: #E8F0FE;\n",
       "      border: none;\n",
       "      border-radius: 50%;\n",
       "      cursor: pointer;\n",
       "      display: none;\n",
       "      fill: #1967D2;\n",
       "      height: 32px;\n",
       "      padding: 0 0 0 0;\n",
       "      width: 32px;\n",
       "    }\n",
       "\n",
       "    .colab-df-convert:hover {\n",
       "      background-color: #E2EBFA;\n",
       "      box-shadow: 0px 1px 2px rgba(60, 64, 67, 0.3), 0px 1px 3px 1px rgba(60, 64, 67, 0.15);\n",
       "      fill: #174EA6;\n",
       "    }\n",
       "\n",
       "    [theme=dark] .colab-df-convert {\n",
       "      background-color: #3B4455;\n",
       "      fill: #D2E3FC;\n",
       "    }\n",
       "\n",
       "    [theme=dark] .colab-df-convert:hover {\n",
       "      background-color: #434B5C;\n",
       "      box-shadow: 0px 1px 3px 1px rgba(0, 0, 0, 0.15);\n",
       "      filter: drop-shadow(0px 1px 2px rgba(0, 0, 0, 0.3));\n",
       "      fill: #FFFFFF;\n",
       "    }\n",
       "  </style>\n",
       "\n",
       "      <script>\n",
       "        const buttonEl =\n",
       "          document.querySelector('#df-c9b8edd4-b6cc-4e8e-a3b2-b29b2501e7ee button.colab-df-convert');\n",
       "        buttonEl.style.display =\n",
       "          google.colab.kernel.accessAllowed ? 'block' : 'none';\n",
       "\n",
       "        async function convertToInteractive(key) {\n",
       "          const element = document.querySelector('#df-c9b8edd4-b6cc-4e8e-a3b2-b29b2501e7ee');\n",
       "          const dataTable =\n",
       "            await google.colab.kernel.invokeFunction('convertToInteractive',\n",
       "                                                     [key], {});\n",
       "          if (!dataTable) return;\n",
       "\n",
       "          const docLinkHtml = 'Like what you see? Visit the ' +\n",
       "            '<a target=\"_blank\" href=https://colab.research.google.com/notebooks/data_table.ipynb>data table notebook</a>'\n",
       "            + ' to learn more about interactive tables.';\n",
       "          element.innerHTML = '';\n",
       "          dataTable['output_type'] = 'display_data';\n",
       "          await google.colab.output.renderOutput(dataTable, element);\n",
       "          const docLink = document.createElement('div');\n",
       "          docLink.innerHTML = docLinkHtml;\n",
       "          element.appendChild(docLink);\n",
       "        }\n",
       "      </script>\n",
       "    </div>\n",
       "  </div>\n",
       "  "
      ],
      "text/plain": [
       "         case_id continent education_of_employee has_job_experience  \\\n",
       "25475  EZYV25476      Asia            Bachelor's                  Y   \n",
       "25476  EZYV25477      Asia           High School                  Y   \n",
       "25477  EZYV25478      Asia              Master's                  Y   \n",
       "25478  EZYV25479      Asia              Master's                  Y   \n",
       "25479  EZYV25480      Asia            Bachelor's                  Y   \n",
       "\n",
       "      requires_job_training  no_of_employees  yr_of_estab  \\\n",
       "25475                     Y             2601         2008   \n",
       "25476                     N             3274         2006   \n",
       "25477                     N             1121         1910   \n",
       "25478                     Y             1918         1887   \n",
       "25479                     N             3195         1960   \n",
       "\n",
       "      region_of_employment  prevailing_wage unit_of_wage full_time_position  \\\n",
       "25475                South         77092.57         Year                  Y   \n",
       "25476            Northeast        279174.79         Year                  Y   \n",
       "25477                South        146298.85         Year                  N   \n",
       "25478                 West         86154.77         Year                  Y   \n",
       "25479              Midwest         70876.91         Year                  Y   \n",
       "\n",
       "      case_status  \n",
       "25475   Certified  \n",
       "25476   Certified  \n",
       "25477   Certified  \n",
       "25478   Certified  \n",
       "25479   Certified  "
      ]
     },
     "execution_count": 13,
     "metadata": {},
     "output_type": "execute_result"
    }
   ],
   "source": [
    "evisa.tail()"
   ]
  },
  {
   "cell_type": "code",
   "execution_count": null,
   "metadata": {
    "colab": {
     "base_uri": "https://localhost:8080/"
    },
    "id": "WUiYJTr3fs4_",
    "outputId": "df3f0238-7ec0-4720-afda-5f94896f9662"
   },
   "outputs": [
    {
     "data": {
      "text/plain": [
       "(25480, 12)"
      ]
     },
     "execution_count": 14,
     "metadata": {},
     "output_type": "execute_result"
    }
   ],
   "source": [
    "evisa.shape"
   ]
  },
  {
   "cell_type": "markdown",
   "metadata": {
    "id": "7FFdqYFXfykQ"
   },
   "source": [
    "* There are 25480 observations and 12 columns in the dataset"
   ]
  },
  {
   "cell_type": "code",
   "execution_count": null,
   "metadata": {
    "colab": {
     "base_uri": "https://localhost:8080/"
    },
    "id": "2pigRMNxf6M4",
    "outputId": "958344be-6c22-4209-c099-1f85a259b221"
   },
   "outputs": [
    {
     "name": "stdout",
     "output_type": "stream",
     "text": [
      "<class 'pandas.core.frame.DataFrame'>\n",
      "RangeIndex: 25480 entries, 0 to 25479\n",
      "Data columns (total 12 columns):\n",
      " #   Column                 Non-Null Count  Dtype  \n",
      "---  ------                 --------------  -----  \n",
      " 0   case_id                25480 non-null  object \n",
      " 1   continent              25480 non-null  object \n",
      " 2   education_of_employee  25480 non-null  object \n",
      " 3   has_job_experience     25480 non-null  object \n",
      " 4   requires_job_training  25480 non-null  object \n",
      " 5   no_of_employees        25480 non-null  int64  \n",
      " 6   yr_of_estab            25480 non-null  int64  \n",
      " 7   region_of_employment   25480 non-null  object \n",
      " 8   prevailing_wage        25480 non-null  float64\n",
      " 9   unit_of_wage           25480 non-null  object \n",
      " 10  full_time_position     25480 non-null  object \n",
      " 11  case_status            25480 non-null  object \n",
      "dtypes: float64(1), int64(2), object(9)\n",
      "memory usage: 2.3+ MB\n"
     ]
    }
   ],
   "source": [
    "evisa.info()"
   ]
  },
  {
   "cell_type": "markdown",
   "metadata": {
    "id": "rJO0xomfgbgN"
   },
   "source": [
    "* There are no missing values in the data.\n",
    "* Not all the features are numeric types, so they should be converted to categories. \n",
    "* Case ID will need to be dropped."
   ]
  },
  {
   "cell_type": "code",
   "execution_count": 5,
   "metadata": {
    "id": "njB_lsUBg9rN"
   },
   "outputs": [],
   "source": [
    "for col in df.columns[evisa.dtypes=='object']:\n",
    "    evisa[col] = evisa[col].astype('category')"
   ]
  },
  {
   "cell_type": "code",
   "execution_count": null,
   "metadata": {
    "colab": {
     "base_uri": "https://localhost:8080/"
    },
    "id": "4UVi6i_RhOwm",
    "outputId": "e2c4c8d3-7ba3-4a88-e803-fd18e3b60792"
   },
   "outputs": [
    {
     "name": "stdout",
     "output_type": "stream",
     "text": [
      "<class 'pandas.core.frame.DataFrame'>\n",
      "RangeIndex: 25480 entries, 0 to 25479\n",
      "Data columns (total 12 columns):\n",
      " #   Column                 Non-Null Count  Dtype   \n",
      "---  ------                 --------------  -----   \n",
      " 0   case_id                25480 non-null  category\n",
      " 1   continent              25480 non-null  category\n",
      " 2   education_of_employee  25480 non-null  category\n",
      " 3   has_job_experience     25480 non-null  category\n",
      " 4   requires_job_training  25480 non-null  category\n",
      " 5   no_of_employees        25480 non-null  int64   \n",
      " 6   yr_of_estab            25480 non-null  int64   \n",
      " 7   region_of_employment   25480 non-null  category\n",
      " 8   prevailing_wage        25480 non-null  float64 \n",
      " 9   unit_of_wage           25480 non-null  category\n",
      " 10  full_time_position     25480 non-null  category\n",
      " 11  case_status            25480 non-null  category\n",
      "dtypes: category(9), float64(1), int64(2)\n",
      "memory usage: 2.0 MB\n"
     ]
    }
   ],
   "source": [
    "evisa.info()"
   ]
  },
  {
   "cell_type": "markdown",
   "metadata": {
    "id": "t_6aAwV7hsR6"
   },
   "source": [
    "* As shown above tye data has two inte64, one float and nine category datatypes."
   ]
  },
  {
   "cell_type": "code",
   "execution_count": 6,
   "metadata": {
    "id": "S7UWkIlfhY60"
   },
   "outputs": [],
   "source": [
    "evisa.drop(labels='case_id', axis=1, inplace=True)"
   ]
  },
  {
   "cell_type": "markdown",
   "metadata": {
    "id": "9UvhtkahhpS-"
   },
   "source": [
    "* case Id is dropped."
   ]
  },
  {
   "cell_type": "markdown",
   "metadata": {
    "id": "cYfGdi2sho7k"
   },
   "source": [
    "#**Exploratory Data Analysis (EDA)**"
   ]
  },
  {
   "cell_type": "code",
   "execution_count": null,
   "metadata": {
    "id": "KJK1J0yElFuB"
   },
   "outputs": [],
   "source": [
    "def histogram_boxplot(data, feature, figsize=(12, 7), kde=False, bins=None):\n",
    "    \"\"\"\n",
    "    Boxplot and histogram combined\n",
    "\n",
    "    data: dataframe\n",
    "    feature: dataframe column\n",
    "    figsize: size of figure (default (12,7))\n",
    "    kde: whether to show the density curve (default False)\n",
    "    bins: number of bins for histogram (default None)\n",
    "    \"\"\"\n",
    "    f2, (ax_box2, ax_hist2) = plt.subplots(\n",
    "        nrows=2,  # Number of rows of the subplot grid= 2\n",
    "        sharex=True,  # x-axis will be shared among all subplots\n",
    "        gridspec_kw={\"height_ratios\": (0.25, 0.75)},\n",
    "        figsize=figsize,\n",
    "    )  # creating the 2 subplots\n",
    "    sns.boxplot(\n",
    "        data=data, x=feature, ax=ax_box2, showmeans=True, color=\"violet\"\n",
    "    )  # boxplot will be created and a triangle will indicate the mean value of the column\n",
    "    sns.histplot(\n",
    "        data=data, x=feature, kde=kde, ax=ax_hist2, bins=bins\n",
    "    ) if bins else sns.histplot(\n",
    "        data=data, x=feature, kde=kde, ax=ax_hist2\n",
    "    )  # For histogram\n",
    "    ax_hist2.axvline(\n",
    "        data[feature].mean(), color=\"green\", linestyle=\"--\"\n",
    "    )  # Add mean to the histogram\n",
    "    ax_hist2.axvline(\n",
    "        data[feature].median(), color=\"black\", linestyle=\"-\"\n",
    "    )  # Add median to the histogram"
   ]
  },
  {
   "cell_type": "code",
   "execution_count": null,
   "metadata": {
    "id": "bz_g4Z9ym6pX"
   },
   "outputs": [],
   "source": [
    "def stacked_barplot(data, predictor, target):\n",
    "    \"\"\"\n",
    "    Print the category counts and plot a stacked bar chart\n",
    "\n",
    "    data: dataframe\n",
    "    predictor: independent variable\n",
    "    target: target variable\n",
    "    \"\"\"\n",
    "    count = data[predictor].nunique()\n",
    "    sorter = data[target].value_counts().index[-1]\n",
    "    tab1 = pd.crosstab(data[predictor], data[target], margins=True).sort_values(\n",
    "        by=sorter, ascending=False\n",
    "    )\n",
    "    print(tab1)\n",
    "    print(\"-\" * 120)\n",
    "    tab = pd.crosstab(data[predictor], data[target], normalize=\"index\").sort_values(\n",
    "        by=sorter, ascending=False\n",
    "    )\n",
    "    tab.plot(kind=\"bar\", stacked=True, figsize=(count + 5, 6))\n",
    "    plt.legend(\n",
    "        loc=\"lower left\", frameon=False,\n",
    "    )\n",
    "    plt.legend(loc=\"upper left\", bbox_to_anchor=(1, 1))\n",
    "    plt.show()"
   ]
  },
  {
   "cell_type": "code",
   "execution_count": null,
   "metadata": {
    "id": "zJq2YjKCnIIX"
   },
   "outputs": [],
   "source": [
    "def labeled_barplot(data, feature, perc=False, n=None):\n",
    "    \"\"\"\n",
    "    Barplot with percentage at the top\n",
    "\n",
    "    data: dataframe\n",
    "    feature: dataframe column\n",
    "    perc: whether to display percentages instead of count (default is False)\n",
    "    n: displays the top n category levels (default is None, i.e., display all levels)\n",
    "    \"\"\"\n",
    "\n",
    "    total = len(data[feature])  \n",
    "    count = data[feature].nunique()\n",
    "    if n is None:\n",
    "        plt.figure(figsize=(count + 2, 6))\n",
    "    else:\n",
    "        plt.figure(figsize=(n + 2, 6))\n",
    "\n",
    "    plt.xticks(rotation=90, fontsize=15)\n",
    "    ax = sns.countplot(\n",
    "        data=data,\n",
    "        x=feature,\n",
    "        palette=\"Paired\",\n",
    "        order=data[feature].value_counts().index[:n],\n",
    "    )\n",
    "\n",
    "    for p in ax.patches:\n",
    "        if perc == True:\n",
    "            label = \"{:.1f}%\".format(\n",
    "                100 * p.get_height() / total\n",
    "            )  \n",
    "        else:\n",
    "            label = p.get_height()  \n",
    "\n",
    "        x = p.get_x() + p.get_width() / 2  \n",
    "        y = p.get_height()  \n",
    "\n",
    "        ax.annotate(\n",
    "            label,\n",
    "            (x, y),\n",
    "            ha=\"center\",\n",
    "            va=\"center\",\n",
    "            size=12,\n",
    "            xytext=(0, 5),\n",
    "            textcoords=\"offset points\",\n",
    "        )  \n",
    "\n",
    "    plt.show()  "
   ]
  },
  {
   "cell_type": "markdown",
   "metadata": {
    "id": "uf-QQ5Zql7LG"
   },
   "source": [
    "##**Univariate Analysis**"
   ]
  },
  {
   "cell_type": "markdown",
   "metadata": {
    "id": "W3PBXdqdmNZi"
   },
   "source": [
    "**1. Continent**"
   ]
  },
  {
   "cell_type": "code",
   "execution_count": null,
   "metadata": {
    "colab": {
     "base_uri": "https://localhost:8080/"
    },
    "id": "SnLMeOMYl1B1",
    "outputId": "ae79b65e-0250-4c73-ee80-29c306aaa68b"
   },
   "outputs": [
    {
     "data": {
      "text/plain": [
       "Asia             16861\n",
       "Europe            3732\n",
       "North America     3292\n",
       "South America      852\n",
       "Africa             551\n",
       "Oceania            192\n",
       "Name: continent, dtype: int64"
      ]
     },
     "execution_count": 21,
     "metadata": {},
     "output_type": "execute_result"
    }
   ],
   "source": [
    "evisa['continent'].value_counts()"
   ]
  },
  {
   "cell_type": "code",
   "execution_count": null,
   "metadata": {
    "colab": {
     "base_uri": "https://localhost:8080/",
     "height": 489
    },
    "id": "vHXeVvKOnM0S",
    "outputId": "59a6afd1-8ca9-40c9-b765-5c38778268af"
   },
   "outputs": [
    {
     "data": {
      "image/png": "[encoded data removed]",
      "text/plain": [
       "<Figure size 576x432 with 1 Axes>"
      ]
     },
     "metadata": {},
     "output_type": "display_data"
    }
   ],
   "source": [
    "labeled_barplot(evisa,\"continent\", perc=True)"
   ]
  },
  {
   "cell_type": "markdown",
   "metadata": {
    "id": "6unz7KInoZtM"
   },
   "source": [
    "* Asia has the largest number of employees with 16861 while oceania has the least with only 192 employees."
   ]
  },
  {
   "cell_type": "markdown",
   "metadata": {
    "id": "f8hJMTKbnX6W"
   },
   "source": [
    "**2. education_of_employee**"
   ]
  },
  {
   "cell_type": "code",
   "execution_count": null,
   "metadata": {
    "colab": {
     "base_uri": "https://localhost:8080/",
     "height": 469
    },
    "id": "SlVPX7Txncq0",
    "outputId": "a87a5887-421f-4d39-9412-af25f50dc8b9"
   },
   "outputs": [
    {
     "data": {
      "image/png": "[encoded data removed]",
      "text/plain": [
       "<Figure size 432x432 with 1 Axes>"
      ]
     },
     "metadata": {},
     "output_type": "display_data"
    }
   ],
   "source": [
    "labeled_barplot(evisa,\"education_of_employee\", perc=True)"
   ]
  },
  {
   "cell_type": "code",
   "execution_count": null,
   "metadata": {
    "colab": {
     "base_uri": "https://localhost:8080/"
    },
    "id": "dF9Gt6zeoAfG",
    "outputId": "c2b6cf29-bd49-4c5b-92c8-9c48a82af815"
   },
   "outputs": [
    {
     "data": {
      "text/plain": [
       "Bachelor's     10234\n",
       "Master's        9634\n",
       "High School     3420\n",
       "Doctorate       2192\n",
       "Name: education_of_employee, dtype: int64"
      ]
     },
     "execution_count": 27,
     "metadata": {},
     "output_type": "execute_result"
    }
   ],
   "source": [
    "evisa['education_of_employee'].value_counts()"
   ]
  },
  {
   "cell_type": "markdown",
   "metadata": {
    "id": "kOS-whDGo5rg"
   },
   "source": [
    "* Most of the employess have bachelor's degree. Only about 8.6% of the employees have Doctorate degree."
   ]
  },
  {
   "cell_type": "markdown",
   "metadata": {
    "id": "eB6lwZ9Hnd0R"
   },
   "source": [
    "**3. has_job_experience**"
   ]
  },
  {
   "cell_type": "code",
   "execution_count": null,
   "metadata": {
    "colab": {
     "base_uri": "https://localhost:8080/",
     "height": 390
    },
    "id": "paNaFu0dpbAR",
    "outputId": "3898ac75-46d9-4a92-9fb5-179f8dc01c60"
   },
   "outputs": [
    {
     "data": {
      "image/png": "[encoded data removed]",
      "text/plain": [
       "<Figure size 288x432 with 1 Axes>"
      ]
     },
     "metadata": {},
     "output_type": "display_data"
    }
   ],
   "source": [
    "labeled_barplot(evisa,\"has_job_experience\", perc=True)"
   ]
  },
  {
   "cell_type": "code",
   "execution_count": null,
   "metadata": {
    "colab": {
     "base_uri": "https://localhost:8080/"
    },
    "id": "YXPWqZy8pi54",
    "outputId": "dcfff450-ad72-4f32-8b48-15f7d163f3f0"
   },
   "outputs": [
    {
     "data": {
      "text/plain": [
       "Y    14802\n",
       "N    10678\n",
       "Name: has_job_experience, dtype: int64"
      ]
     },
     "execution_count": 29,
     "metadata": {},
     "output_type": "execute_result"
    }
   ],
   "source": [
    "evisa['has_job_experience'].value_counts()"
   ]
  },
  {
   "cell_type": "markdown",
   "metadata": {
    "id": "FvN7W1hJpsiq"
   },
   "source": [
    "* A little more than half of the employees have job experience while about 41.9% do not any exprience."
   ]
  },
  {
   "cell_type": "markdown",
   "metadata": {
    "id": "3KJY5HSSnf6W"
   },
   "source": [
    "**4. requires_job_training**"
   ]
  },
  {
   "cell_type": "code",
   "execution_count": null,
   "metadata": {
    "colab": {
     "base_uri": "https://localhost:8080/",
     "height": 390
    },
    "id": "vZkP__sGqDGG",
    "outputId": "a36d8136-0f6f-4be7-c209-104e65fa2419"
   },
   "outputs": [
    {
     "data": {
      "image/png": "[encoded data removed]",
      "text/plain": [
       "<Figure size 288x432 with 1 Axes>"
      ]
     },
     "metadata": {},
     "output_type": "display_data"
    }
   ],
   "source": [
    "labeled_barplot(evisa,\"requires_job_training\", perc=True)"
   ]
  },
  {
   "cell_type": "code",
   "execution_count": null,
   "metadata": {
    "colab": {
     "base_uri": "https://localhost:8080/"
    },
    "id": "WexQgBStqFZC",
    "outputId": "64b32475-2286-4c19-ae0a-b1bd7f1e1567"
   },
   "outputs": [
    {
     "data": {
      "text/plain": [
       "N    22525\n",
       "Y     2955\n",
       "Name: requires_job_training, dtype: int64"
      ]
     },
     "execution_count": 31,
     "metadata": {},
     "output_type": "execute_result"
    }
   ],
   "source": [
    "evisa['requires_job_training'].value_counts()"
   ]
  },
  {
   "cell_type": "markdown",
   "metadata": {
    "id": "u5ugIvIQtNMY"
   },
   "source": [
    "* Most of the employees do not require job training"
   ]
  },
  {
   "cell_type": "markdown",
   "metadata": {
    "id": "OatDsB6gniBC"
   },
   "source": [
    "**5. no_of_employees:**"
   ]
  },
  {
   "cell_type": "code",
   "execution_count": null,
   "metadata": {
    "colab": {
     "base_uri": "https://localhost:8080/",
     "height": 384
    },
    "id": "wjIhfOW2WILs",
    "outputId": "3fc15b2d-f721-40e2-d783-de71f1e98bb9"
   },
   "outputs": [
    {
     "data": {
      "image/png": "[encoded data removed]",
      "text/plain": [
       "<Figure size 864x504 with 2 Axes>"
      ]
     },
     "metadata": {},
     "output_type": "display_data"
    }
   ],
   "source": [
    "histogram_boxplot(evisa, 'no_of_employees')"
   ]
  },
  {
   "cell_type": "markdown",
   "metadata": {
    "id": "7f3q9XowWgjW"
   },
   "source": [
    "* We can observe that the graph is right skewed."
   ]
  },
  {
   "cell_type": "markdown",
   "metadata": {
    "id": "4CCDqvT-nkXM"
   },
   "source": [
    "**6. yr_of_estab**"
   ]
  },
  {
   "cell_type": "code",
   "execution_count": null,
   "metadata": {
    "colab": {
     "base_uri": "https://localhost:8080/",
     "height": 384
    },
    "id": "qRwdvJ8kWYT6",
    "outputId": "cfd4d086-96f6-4d5c-bb55-52691cbc64fa"
   },
   "outputs": [
    {
     "data": {
      "image/png": "[encoded data removed]",
      "text/plain": [
       "<Figure size 864x504 with 2 Axes>"
      ]
     },
     "metadata": {},
     "output_type": "display_data"
    }
   ],
   "source": [
    "histogram_boxplot(evisa, 'yr_of_estab')"
   ]
  },
  {
   "cell_type": "markdown",
   "metadata": {
    "id": "30T4jdf0WmN2"
   },
   "source": [
    "* We can observe that the graph is left skewed. \n",
    "* Since it is heavly skewed, the outliers might need to be treated."
   ]
  },
  {
   "cell_type": "markdown",
   "metadata": {
    "id": "d-Zb_ZiHnmqK"
   },
   "source": [
    "**7. region_of_employment**"
   ]
  },
  {
   "cell_type": "code",
   "execution_count": null,
   "metadata": {
    "colab": {
     "base_uri": "https://localhost:8080/",
     "height": 453
    },
    "id": "uHcgisVrwgBG",
    "outputId": "2326a776-f5ed-423d-83f4-646fc0f30f36"
   },
   "outputs": [
    {
     "data": {
      "image/png": "[encoded data removed]",
      "text/plain": [
       "<Figure size 504x432 with 1 Axes>"
      ]
     },
     "metadata": {},
     "output_type": "display_data"
    }
   ],
   "source": [
    "labeled_barplot(evisa,\"region_of_employment\", perc=True)"
   ]
  },
  {
   "cell_type": "code",
   "execution_count": null,
   "metadata": {
    "colab": {
     "base_uri": "https://localhost:8080/"
    },
    "id": "W6UixacYwj1n",
    "outputId": "ceded8a1-db05-49be-fd1f-8ac421a636a0"
   },
   "outputs": [
    {
     "data": {
      "text/plain": [
       "Northeast    7195\n",
       "South        7017\n",
       "West         6586\n",
       "Midwest      4307\n",
       "Island        375\n",
       "Name: region_of_employment, dtype: int64"
      ]
     },
     "execution_count": 13,
     "metadata": {},
     "output_type": "execute_result"
    }
   ],
   "source": [
    "evisa['region_of_employment'].value_counts()"
   ]
  },
  {
   "cell_type": "markdown",
   "metadata": {
    "id": "lAVVuNABw_Bi"
   },
   "source": [
    "* A high number of foregin workers intended to work in the northeast part of the US while"
   ]
  },
  {
   "cell_type": "markdown",
   "metadata": {
    "id": "WU7GSG0knpEg"
   },
   "source": [
    "**8. prevailing_wage**"
   ]
  },
  {
   "cell_type": "code",
   "execution_count": null,
   "metadata": {
    "colab": {
     "base_uri": "https://localhost:8080/",
     "height": 384
    },
    "id": "7HsXqyORWvdi",
    "outputId": "cc268dbc-e93f-4e6c-9547-89690cf63ac1"
   },
   "outputs": [
    {
     "data": {
      "image/png": "[encoded data removed]",
      "text/plain": [
       "<Figure size 864x504 with 2 Axes>"
      ]
     },
     "metadata": {},
     "output_type": "display_data"
    }
   ],
   "source": [
    "histogram_boxplot(evisa, 'prevailing_wage')"
   ]
  },
  {
   "cell_type": "markdown",
   "metadata": {
    "id": "Bl6GZagm4PDz"
   },
   "source": [
    "* We can observe that the graph is right skewed.\n",
    "* The wage ranges from 2$ to 319210$."
   ]
  },
  {
   "cell_type": "markdown",
   "metadata": {
    "id": "tZ2pAmb-nrOn"
   },
   "source": [
    "**9. unit_of_wage**"
   ]
  },
  {
   "cell_type": "code",
   "execution_count": null,
   "metadata": {
    "colab": {
     "base_uri": "https://localhost:8080/",
     "height": 426
    },
    "id": "r4AJh2ahXrkH",
    "outputId": "342f11fc-fb7c-44c6-8350-82c5ec395205"
   },
   "outputs": [
    {
     "data": {
      "image/png": "[encoded data removed]",
      "text/plain": [
       "<Figure size 432x432 with 1 Axes>"
      ]
     },
     "metadata": {},
     "output_type": "display_data"
    }
   ],
   "source": [
    "labeled_barplot(evisa,\"unit_of_wage\", perc=True)"
   ]
  },
  {
   "cell_type": "code",
   "execution_count": null,
   "metadata": {
    "colab": {
     "base_uri": "https://localhost:8080/"
    },
    "id": "shwCfE6yX6fg",
    "outputId": "c1d89476-7fe6-4f2f-8530-098575fc8018"
   },
   "outputs": [
    {
     "data": {
      "text/plain": [
       "Year     22962\n",
       "Hour      2157\n",
       "Week       272\n",
       "Month       89\n",
       "Name: unit_of_wage, dtype: int64"
      ]
     },
     "execution_count": 18,
     "metadata": {},
     "output_type": "execute_result"
    }
   ],
   "source": [
    "evisa['unit_of_wage'].value_counts()"
   ]
  },
  {
   "cell_type": "markdown",
   "metadata": {
    "id": "vRlHfKA951kd"
   },
   "source": [
    "* 90% of wage paid by company are hourly while less than 1% are paid monthly."
   ]
  },
  {
   "cell_type": "markdown",
   "metadata": {
    "id": "8cHrIjDdnty-"
   },
   "source": [
    "**10. full_time_position**"
   ]
  },
  {
   "cell_type": "code",
   "execution_count": null,
   "metadata": {
    "colab": {
     "base_uri": "https://localhost:8080/",
     "height": 390
    },
    "id": "oCpCmZOTYSmO",
    "outputId": "b6ff6522-c56c-4225-cdb1-4cb98f6ae65c"
   },
   "outputs": [
    {
     "data": {
      "image/png": "[encoded data removed]",
      "text/plain": [
       "<Figure size 288x432 with 1 Axes>"
      ]
     },
     "metadata": {},
     "output_type": "display_data"
    }
   ],
   "source": [
    "labeled_barplot(evisa,\"full_time_position\", perc=True)"
   ]
  },
  {
   "cell_type": "code",
   "execution_count": null,
   "metadata": {
    "colab": {
     "base_uri": "https://localhost:8080/"
    },
    "id": "iN8IlPASYNkl",
    "outputId": "e561e9e1-742c-41af-be33-e9e742c6b9e7"
   },
   "outputs": [
    {
     "data": {
      "text/plain": [
       "Y    22773\n",
       "N     2707\n",
       "Name: full_time_position, dtype: int64"
      ]
     },
     "execution_count": 20,
     "metadata": {},
     "output_type": "execute_result"
    }
   ],
   "source": [
    "evisa['full_time_position'].value_counts()"
   ]
  },
  {
   "cell_type": "markdown",
   "metadata": {
    "id": "gZrKVb4K6IXi"
   },
   "source": [
    "* Most jobs requires full time position."
   ]
  },
  {
   "cell_type": "markdown",
   "metadata": {
    "id": "dq_UlAhQnwEY"
   },
   "source": [
    "**11.case_status**"
   ]
  },
  {
   "cell_type": "code",
   "execution_count": null,
   "metadata": {
    "colab": {
     "base_uri": "https://localhost:8080/",
     "height": 443
    },
    "id": "9rM7gXWpYQv3",
    "outputId": "2177a789-3ed5-413c-938b-55132c6f22ba"
   },
   "outputs": [
    {
     "data": {
      "image/png": "[encoded data removed]",
      "text/plain": [
       "<Figure size 288x432 with 1 Axes>"
      ]
     },
     "metadata": {},
     "output_type": "display_data"
    }
   ],
   "source": [
    "labeled_barplot(evisa,\"case_status\", perc=True)"
   ]
  },
  {
   "cell_type": "code",
   "execution_count": null,
   "metadata": {
    "colab": {
     "base_uri": "https://localhost:8080/"
    },
    "id": "Dq-7J_pnYjcW",
    "outputId": "9f128af7-9f5b-4cad-c44d-f6fe60c1f15e"
   },
   "outputs": [
    {
     "data": {
      "text/plain": [
       "Certified    17018\n",
       "Denied        8462\n",
       "Name: case_status, dtype: int64"
      ]
     },
     "execution_count": 22,
     "metadata": {},
     "output_type": "execute_result"
    }
   ],
   "source": [
    "evisa['case_status'].value_counts()"
   ]
  },
  {
   "cell_type": "markdown",
   "metadata": {
    "id": "Ju3vd3Fb6Vc6"
   },
   "source": [
    "* Among the visa applications, 66.8% are approved. which is almost double the number od cases that are denied."
   ]
  },
  {
   "cell_type": "markdown",
   "metadata": {
    "id": "jytB-TTliRmL"
   },
   "source": [
    "###**Leading Questions:**"
   ]
  },
  {
   "cell_type": "markdown",
   "metadata": {
    "id": "MvwXLBkJikah"
   },
   "source": [
    "**1. Those with higher education may want to travel abroad for a well-paid job. Does education play a role in Visa certification?**"
   ]
  },
  {
   "cell_type": "code",
   "execution_count": null,
   "metadata": {
    "colab": {
     "base_uri": "https://localhost:8080/",
     "height": 298
    },
    "id": "ZoeMGeYjap0u",
    "outputId": "3fa4722e-0533-4b74-89e6-8680b93a00fb"
   },
   "outputs": [
    {
     "data": {
      "text/plain": [
       "<matplotlib.axes._subplots.AxesSubplot at 0x7f71bba83310>"
      ]
     },
     "execution_count": 31,
     "metadata": {},
     "output_type": "execute_result"
    },
    {
     "data": {
      "image/png": "[encoded data removed]",
      "text/plain": [
       "<Figure size 432x288 with 1 Axes>"
      ]
     },
     "metadata": {},
     "output_type": "display_data"
    }
   ],
   "source": [
    "sns.countplot(data=evisa, x='education_of_employee',hue='case_status')"
   ]
  },
  {
   "cell_type": "code",
   "execution_count": null,
   "metadata": {
    "colab": {
     "base_uri": "https://localhost:8080/"
    },
    "id": "aUOpEoJWiQv6",
    "outputId": "91740333-c9bc-457c-da1b-d7026aae31d2"
   },
   "outputs": [
    {
     "data": {
      "text/plain": [
       "education_of_employee           \n",
       "Bachelor's             Certified    6367\n",
       "                       Denied       3867\n",
       "Doctorate              Certified    1912\n",
       "                       Denied        280\n",
       "High School            Denied       2256\n",
       "                       Certified    1164\n",
       "Master's               Certified    7575\n",
       "                       Denied       2059\n",
       "Name: case_status, dtype: int64"
      ]
     },
     "execution_count": 33,
     "metadata": {},
     "output_type": "execute_result"
    }
   ],
   "source": [
    "evisa.groupby('education_of_employee')['case_status'].value_counts()"
   ]
  },
  {
   "cell_type": "markdown",
   "metadata": {
    "id": "2cYwquWGar-g"
   },
   "source": [
    "* As shown above, the more educated an employee is, the less probability of of being denied. \n",
    "* Highschool level educated workers tend to be denied more time than certified. while Doctrate level workers tend to be certified more than being denined."
   ]
  },
  {
   "cell_type": "markdown",
   "metadata": {
    "id": "-7ESk7ZfgC_X"
   },
   "source": [
    "**2. How does the visa status vary across different continents?**\n",
    "\n"
   ]
  },
  {
   "cell_type": "code",
   "execution_count": null,
   "metadata": {
    "colab": {
     "base_uri": "https://localhost:8080/",
     "height": 297
    },
    "id": "ZPF-RFtohKKm",
    "outputId": "431900bb-8dff-40d9-a09b-df1a918ddfe1"
   },
   "outputs": [
    {
     "data": {
      "text/plain": [
       "<matplotlib.axes._subplots.AxesSubplot at 0x7f71bc1026d0>"
      ]
     },
     "execution_count": 40,
     "metadata": {},
     "output_type": "execute_result"
    },
    {
     "data": {
      "image/png": "[encoded data removed]",
      "text/plain": [
       "<Figure size 432x288 with 1 Axes>"
      ]
     },
     "metadata": {},
     "output_type": "display_data"
    }
   ],
   "source": [
    "sns.countplot(data=evisa, x='continent', hue='case_status')"
   ]
  },
  {
   "cell_type": "code",
   "execution_count": null,
   "metadata": {
    "colab": {
     "base_uri": "https://localhost:8080/"
    },
    "id": "XVyx7ICPgQ4j",
    "outputId": "bb7bdc6b-8e2e-40e4-af1c-cb6655bae578"
   },
   "outputs": [
    {
     "data": {
      "text/plain": [
       "continent               \n",
       "Africa         Certified      397\n",
       "               Denied         154\n",
       "Asia           Certified    11012\n",
       "               Denied        5849\n",
       "Europe         Certified     2957\n",
       "               Denied         775\n",
       "North America  Certified     2037\n",
       "               Denied        1255\n",
       "Oceania        Certified      122\n",
       "               Denied          70\n",
       "South America  Certified      493\n",
       "               Denied         359\n",
       "Name: case_status, dtype: int64"
      ]
     },
     "execution_count": 42,
     "metadata": {},
     "output_type": "execute_result"
    }
   ],
   "source": [
    " evisa.groupby('continent')['case_status'].value_counts()"
   ]
  },
  {
   "cell_type": "markdown",
   "metadata": {
    "id": "MFgvTGjoiOHo"
   },
   "source": [
    "* European applicants have better chance of getting dertified than being denied.\n",
    "* Asia has the most applicant which in result has the most certified and denied cases. "
   ]
  },
  {
   "cell_type": "markdown",
   "metadata": {
    "id": "IIQJSqIarkXU"
   },
   "source": [
    "**3. Experienced professionals might look abroad for opportunities to improve their lifestyles and career development. Does work experience influence visa status?**"
   ]
  },
  {
   "cell_type": "code",
   "execution_count": null,
   "metadata": {
    "colab": {
     "base_uri": "https://localhost:8080/",
     "height": 298
    },
    "id": "HGULHwkLRr_R",
    "outputId": "693ebd2b-f0d8-43e3-c5db-cbe69ce1f237"
   },
   "outputs": [
    {
     "data": {
      "text/plain": [
       "<matplotlib.axes._subplots.AxesSubplot at 0x7fac1f79c1c0>"
      ]
     },
     "execution_count": 12,
     "metadata": {},
     "output_type": "execute_result"
    },
    {
     "data": {
      "image/png": "[encoded data removed]",
      "text/plain": [
       "<Figure size 432x288 with 1 Axes>"
      ]
     },
     "metadata": {},
     "output_type": "display_data"
    }
   ],
   "source": [
    "sns.countplot(data=evisa, x='has_job_experience', hue='case_status')"
   ]
  },
  {
   "cell_type": "code",
   "execution_count": null,
   "metadata": {
    "colab": {
     "base_uri": "https://localhost:8080/"
    },
    "id": "ZBPRpzXSrf_n",
    "outputId": "ccc78256-b8a8-4d82-d65a-1a26a1afc0fc"
   },
   "outputs": [
    {
     "data": {
      "text/plain": [
       "has_job_experience           \n",
       "N                   Certified     5994\n",
       "                    Denied        4684\n",
       "Y                   Certified    11024\n",
       "                    Denied        3778\n",
       "Name: case_status, dtype: int64"
      ]
     },
     "execution_count": 13,
     "metadata": {},
     "output_type": "execute_result"
    }
   ],
   "source": [
    "evisa.groupby('has_job_experience')['case_status'].value_counts()"
   ]
  },
  {
   "cell_type": "markdown",
   "metadata": {
    "id": "EmJ5XhqlScF8"
   },
   "source": [
    "* Applicants with privious job exprience have a high chance of getting certified compared to those with no exprience. "
   ]
  },
  {
   "cell_type": "markdown",
   "metadata": {
    "id": "9HMAVIMnSXvn"
   },
   "source": [
    "**4. In the United States, employees are paid at different intervals. Which pay unit is most likely to be certified for a visa?**"
   ]
  },
  {
   "cell_type": "code",
   "execution_count": null,
   "metadata": {
    "colab": {
     "base_uri": "https://localhost:8080/",
     "height": 298
    },
    "id": "au8vKFPfUL8H",
    "outputId": "1fa5dd3b-63ee-4a8e-d997-3256a5e7613d"
   },
   "outputs": [
    {
     "data": {
      "text/plain": [
       "<matplotlib.axes._subplots.AxesSubplot at 0x7fac1f646d30>"
      ]
     },
     "execution_count": 14,
     "metadata": {},
     "output_type": "execute_result"
    },
    {
     "data": {
      "image/png": "[encoded data removed]",
      "text/plain": [
       "<Figure size 432x288 with 1 Axes>"
      ]
     },
     "metadata": {},
     "output_type": "display_data"
    }
   ],
   "source": [
    "sns.countplot(data=evisa, x='unit_of_wage', hue='case_status')"
   ]
  },
  {
   "cell_type": "code",
   "execution_count": null,
   "metadata": {
    "colab": {
     "base_uri": "https://localhost:8080/"
    },
    "id": "Ih3QYQDVS38p",
    "outputId": "95117651-6b97-46c2-9071-b34d74491e11"
   },
   "outputs": [
    {
     "data": {
      "text/plain": [
       "unit_of_wage           \n",
       "Hour          Denied        1410\n",
       "              Certified      747\n",
       "Month         Certified       55\n",
       "              Denied          34\n",
       "Week          Certified      169\n",
       "              Denied         103\n",
       "Year          Certified    16047\n",
       "              Denied        6915\n",
       "Name: case_status, dtype: int64"
      ]
     },
     "execution_count": 16,
     "metadata": {},
     "output_type": "execute_result"
    }
   ],
   "source": [
    "evisa.groupby('unit_of_wage')['case_status'].value_counts()"
   ]
  },
  {
   "cell_type": "markdown",
   "metadata": {
    "id": "7hZHk-MlUcGS"
   },
   "source": [
    "* Annualy paid employees have the highest both certified and denied case status. This might suggest that employers wants workers who are paid annuanly comprared to the other types of unit of wage."
   ]
  },
  {
   "cell_type": "markdown",
   "metadata": {
    "id": "3AZtuhdRVa7g"
   },
   "source": [
    "**5. The US government has established a prevailing wage to protect local talent and foreign workers. How does the visa status change with the prevailing wage?**"
   ]
  },
  {
   "cell_type": "code",
   "execution_count": null,
   "metadata": {
    "colab": {
     "base_uri": "https://localhost:8080/",
     "height": 313
    },
    "id": "739SZznjYVQh",
    "outputId": "230686f4-b6fd-49be-b65b-880235e44e50"
   },
   "outputs": [
    {
     "data": {
      "image/png": "[encoded data removed]",
      "text/plain": [
       "<Figure size 432x288 with 1 Axes>"
      ]
     },
     "metadata": {},
     "output_type": "display_data"
    }
   ],
   "source": [
    "plt.figure()\n",
    "sns.barplot(data=evisa, x=\"case_status\", y=\"prevailing_wage\")\n",
    "plt.xticks(rotation=90)\n",
    "plt.show()"
   ]
  },
  {
   "cell_type": "code",
   "execution_count": null,
   "metadata": {
    "colab": {
     "base_uri": "https://localhost:8080/",
     "height": 263
    },
    "id": "NlXeQGivbYlg",
    "outputId": "7e47724e-ddf6-4e6c-cd84-e1175bd5acdc"
   },
   "outputs": [
    {
     "data": {
      "image/png": "[encoded data removed]",
      "text/plain": [
       "<Figure size 1152x432 with 1 Axes>"
      ]
     },
     "metadata": {},
     "output_type": "display_data"
    }
   ],
   "source": [
    "plt.figure(figsize=(16,6))\n",
    "sns.histplot(data=evisa, x='prevailing_wage', hue='case_status')\n",
    "plt.show()"
   ]
  },
  {
   "cell_type": "markdown",
   "metadata": {
    "id": "X8b0s1iLbOvH"
   },
   "source": [
    "As the distribution above shows, the ratio of approved to denied applications remains approximately equivalent across the range of wage"
   ]
  },
  {
   "cell_type": "markdown",
   "metadata": {
    "id": "HZtBI147gOs-"
   },
   "source": [
    "#**Bivariate Analysis**"
   ]
  },
  {
   "cell_type": "markdown",
   "metadata": {
    "id": "WPzDdAYvDzJ5"
   },
   "source": [
    "**1. Continent and Case Status**"
   ]
  },
  {
   "cell_type": "code",
   "execution_count": null,
   "metadata": {
    "colab": {
     "base_uri": "https://localhost:8080/",
     "height": 588
    },
    "id": "xC6ZuAoLD4xK",
    "outputId": "20adc765-721c-41a7-e749-98bccde9c533"
   },
   "outputs": [
    {
     "name": "stdout",
     "output_type": "stream",
     "text": [
      "case_status    Certified  Denied    All\n",
      "continent                              \n",
      "All                17018    8462  25480\n",
      "Asia               11012    5849  16861\n",
      "North America       2037    1255   3292\n",
      "Europe              2957     775   3732\n",
      "South America        493     359    852\n",
      "Africa               397     154    551\n",
      "Oceania              122      70    192\n",
      "------------------------------------------------------------------------------------------------------------------------\n"
     ]
    },
    {
     "data": {
      "image/png": "[encoded data removed]",
      "text/plain": [
       "<Figure size 792x432 with 1 Axes>"
      ]
     },
     "metadata": {},
     "output_type": "display_data"
    }
   ],
   "source": [
    "stacked_barplot(evisa,'continent','case_status')"
   ]
  },
  {
   "cell_type": "markdown",
   "metadata": {
    "id": "0-0HFFBpE1GB"
   },
   "source": [
    "* Europe has the highest visa certification rate while south america has the lowest."
   ]
  },
  {
   "cell_type": "markdown",
   "metadata": {
    "id": "iWumkb_oFK1B"
   },
   "source": [
    "**2. Education and case status**"
   ]
  },
  {
   "cell_type": "code",
   "execution_count": null,
   "metadata": {
    "colab": {
     "base_uri": "https://localhost:8080/",
     "height": 601
    },
    "id": "MFP6O3C_Dymf",
    "outputId": "32540ae8-d1db-4041-d87e-230eebb56917"
   },
   "outputs": [
    {
     "name": "stdout",
     "output_type": "stream",
     "text": [
      "case_status            Certified  Denied    All\n",
      "education_of_employee                          \n",
      "All                        17018    8462  25480\n",
      "Bachelor's                  6367    3867  10234\n",
      "High School                 1164    2256   3420\n",
      "Master's                    7575    2059   9634\n",
      "Doctorate                   1912     280   2192\n",
      "------------------------------------------------------------------------------------------------------------------------\n"
     ]
    },
    {
     "data": {
      "image/png": "[encoded data removed]",
      "text/plain": [
       "<Figure size 648x432 with 1 Axes>"
      ]
     },
     "metadata": {},
     "output_type": "display_data"
    }
   ],
   "source": [
    "stacked_barplot(evisa,'education_of_employee','case_status')"
   ]
  },
  {
   "cell_type": "markdown",
   "metadata": {
    "id": "XV2WwYGXFTaf"
   },
   "source": [
    "* The height the educational level, the better chance of getting certified to work in the US."
   ]
  },
  {
   "cell_type": "markdown",
   "metadata": {
    "id": "PnnL0sW_Fd3M"
   },
   "source": [
    "**3. Job exprience and case status**"
   ]
  },
  {
   "cell_type": "code",
   "execution_count": null,
   "metadata": {
    "colab": {
     "base_uri": "https://localhost:8080/",
     "height": 513
    },
    "id": "RkUhjGVnFmju",
    "outputId": "71ef42ac-dbd2-457b-ecac-a0a1922bd5e7"
   },
   "outputs": [
    {
     "name": "stdout",
     "output_type": "stream",
     "text": [
      "case_status         Certified  Denied    All\n",
      "has_job_experience                          \n",
      "All                     17018    8462  25480\n",
      "N                        5994    4684  10678\n",
      "Y                       11024    3778  14802\n",
      "------------------------------------------------------------------------------------------------------------------------\n"
     ]
    },
    {
     "data": {
      "image/png": "[encoded data removed]",
      "text/plain": [
       "<Figure size 504x432 with 1 Axes>"
      ]
     },
     "metadata": {},
     "output_type": "display_data"
    }
   ],
   "source": [
    "stacked_barplot(evisa,'has_job_experience','case_status')"
   ]
  },
  {
   "cell_type": "markdown",
   "metadata": {
    "id": "eZcKR12yF2LL"
   },
   "source": [
    "* Workers with jo experience have a higher chnace of getting certified than workers with no job experience."
   ]
  },
  {
   "cell_type": "markdown",
   "metadata": {
    "id": "DfcYFuOtGHMF"
   },
   "source": [
    "**4.Required job training and case status**"
   ]
  },
  {
   "cell_type": "code",
   "execution_count": null,
   "metadata": {
    "colab": {
     "base_uri": "https://localhost:8080/",
     "height": 513
    },
    "id": "jzMVrbP1GSUO",
    "outputId": "c2278c37-b258-4905-a7a3-fc0dc1f7fad1"
   },
   "outputs": [
    {
     "name": "stdout",
     "output_type": "stream",
     "text": [
      "case_status            Certified  Denied    All\n",
      "requires_job_training                          \n",
      "All                        17018    8462  25480\n",
      "N                          15012    7513  22525\n",
      "Y                           2006     949   2955\n",
      "------------------------------------------------------------------------------------------------------------------------\n"
     ]
    },
    {
     "data": {
      "image/png": "[encoded data removed]",
      "text/plain": [
       "<Figure size 504x432 with 1 Axes>"
      ]
     },
     "metadata": {},
     "output_type": "display_data"
    }
   ],
   "source": [
    "stacked_barplot(evisa,'requires_job_training','case_status')"
   ]
  },
  {
   "cell_type": "markdown",
   "metadata": {
    "id": "OuqnMWg-JMJU"
   },
   "source": [
    "* Case status is not affected by training requirement."
   ]
  },
  {
   "cell_type": "markdown",
   "metadata": {
    "id": "aPgwsYh9aXwA"
   },
   "source": [
    "**5. Region of employment**"
   ]
  },
  {
   "cell_type": "code",
   "execution_count": null,
   "metadata": {
    "colab": {
     "base_uri": "https://localhost:8080/",
     "height": 609
    },
    "id": "-3MYgKCOLWC1",
    "outputId": "cddb4d60-9a5b-4994-f3f1-ea852e82751c"
   },
   "outputs": [
    {
     "name": "stdout",
     "output_type": "stream",
     "text": [
      "case_status           Certified  Denied    All\n",
      "region_of_employment                          \n",
      "All                       17018    8462  25480\n",
      "Northeast                  4526    2669   7195\n",
      "West                       4100    2486   6586\n",
      "South                      4913    2104   7017\n",
      "Midwest                    3253    1054   4307\n",
      "Island                      226     149    375\n",
      "------------------------------------------------------------------------------------------------------------------------\n"
     ]
    },
    {
     "data": {
      "image/png": "[encoded data removed]",
      "text/plain": [
       "<Figure size 720x432 with 1 Axes>"
      ]
     },
     "metadata": {},
     "output_type": "display_data"
    }
   ],
   "source": [
    "stacked_barplot(evisa,'region_of_employment','case_status')"
   ]
  },
  {
   "cell_type": "markdown",
   "metadata": {
    "id": "4qgYsWlBa8_U"
   },
   "source": [
    "* Midwest region has the highest rate of certifing workers and island region have the lowest."
   ]
  },
  {
   "cell_type": "markdown",
   "metadata": {
    "id": "W1pGdn9WGRKY"
   },
   "source": [
    "**6. Full time position**"
   ]
  },
  {
   "cell_type": "code",
   "execution_count": null,
   "metadata": {
    "colab": {
     "base_uri": "https://localhost:8080/",
     "height": 513
    },
    "id": "oajltrfVavfl",
    "outputId": "756cabf8-dd05-4dfd-9b86-c9194f061733"
   },
   "outputs": [
    {
     "name": "stdout",
     "output_type": "stream",
     "text": [
      "case_status         Certified  Denied    All\n",
      "full_time_position                          \n",
      "All                     17018    8462  25480\n",
      "Y                       15163    7610  22773\n",
      "N                        1855     852   2707\n",
      "------------------------------------------------------------------------------------------------------------------------\n"
     ]
    },
    {
     "data": {
      "image/png": "[encoded data removed]",
      "text/plain": [
       "<Figure size 504x432 with 1 Axes>"
      ]
     },
     "metadata": {},
     "output_type": "display_data"
    }
   ],
   "source": [
    "stacked_barplot(evisa,'full_time_position','case_status')"
   ]
  },
  {
   "cell_type": "markdown",
   "metadata": {
    "id": "kG_uw6A8b4es"
   },
   "source": [
    "* Case status is not affected by full time position."
   ]
  },
  {
   "cell_type": "code",
   "execution_count": null,
   "metadata": {
    "colab": {
     "base_uri": "https://localhost:8080/",
     "height": 298
    },
    "id": "JfoZiOt2ezM9",
    "outputId": "39bc8454-32b5-42f7-d40b-5539c334cdc8"
   },
   "outputs": [
    {
     "data": {
      "text/plain": [
       "<matplotlib.axes._subplots.AxesSubplot at 0x7fa1bbd23bb0>"
      ]
     },
     "execution_count": 15,
     "metadata": {},
     "output_type": "execute_result"
    },
    {
     "data": {
      "image/png": "[encoded data removed]",
      "text/plain": [
       "<Figure size 432x288 with 1 Axes>"
      ]
     },
     "metadata": {},
     "output_type": "display_data"
    }
   ],
   "source": [
    "sns.boxplot(data=evisa, y='no_of_employees' , x='case_status')"
   ]
  },
  {
   "cell_type": "markdown",
   "metadata": {
    "id": "7n1u9YcZfWZ7"
   },
   "source": [
    "* Seems like number of employees has insignififcant effects on case status."
   ]
  },
  {
   "cell_type": "markdown",
   "metadata": {
    "id": "Tm_OyklEAnK8"
   },
   "source": [
    "#**Data Preprocessing**"
   ]
  },
  {
   "cell_type": "code",
   "execution_count": 7,
   "metadata": {
    "id": "INGJKXIxnT0c"
   },
   "outputs": [],
   "source": [
    "easyvisa = evisa.copy()"
   ]
  },
  {
   "cell_type": "markdown",
   "metadata": {
    "id": "KtrUsISbqeMZ"
   },
   "source": [
    "###**Missing value treatment**"
   ]
  },
  {
   "cell_type": "code",
   "execution_count": null,
   "metadata": {
    "colab": {
     "base_uri": "https://localhost:8080/",
     "height": 207
    },
    "id": "GvL8NVbwA-y6",
    "outputId": "5273a39b-04e2-41e3-9067-8098c5f7052c"
   },
   "outputs": [
    {
     "data": {
      "text/html": [
       "\n",
       "  <div id=\"df-055ef2b3-77d7-40cf-be7e-cf35d70a47d5\">\n",
       "    <div class=\"colab-df-container\">\n",
       "      <div>\n",
       "<style scoped>\n",
       "    .dataframe tbody tr th:only-of-type {\n",
       "        vertical-align: middle;\n",
       "    }\n",
       "\n",
       "    .dataframe tbody tr th {\n",
       "        vertical-align: top;\n",
       "    }\n",
       "\n",
       "    .dataframe thead th {\n",
       "        text-align: right;\n",
       "    }\n",
       "</style>\n",
       "<table border=\"1\" class=\"dataframe\">\n",
       "  <thead>\n",
       "    <tr style=\"text-align: right;\">\n",
       "      <th></th>\n",
       "      <th>count</th>\n",
       "      <th>mean</th>\n",
       "      <th>std</th>\n",
       "      <th>min</th>\n",
       "      <th>25%</th>\n",
       "      <th>50%</th>\n",
       "      <th>75%</th>\n",
       "      <th>max</th>\n",
       "    </tr>\n",
       "  </thead>\n",
       "  <tbody>\n",
       "    <tr>\n",
       "      <th>no_of_employees</th>\n",
       "      <td>25480.0</td>\n",
       "      <td>5667.043210</td>\n",
       "      <td>22877.928848</td>\n",
       "      <td>-26.0000</td>\n",
       "      <td>1022.00</td>\n",
       "      <td>2109.00</td>\n",
       "      <td>3504.0000</td>\n",
       "      <td>602069.00</td>\n",
       "    </tr>\n",
       "    <tr>\n",
       "      <th>yr_of_estab</th>\n",
       "      <td>25480.0</td>\n",
       "      <td>1979.409929</td>\n",
       "      <td>42.366929</td>\n",
       "      <td>1800.0000</td>\n",
       "      <td>1976.00</td>\n",
       "      <td>1997.00</td>\n",
       "      <td>2005.0000</td>\n",
       "      <td>2016.00</td>\n",
       "    </tr>\n",
       "    <tr>\n",
       "      <th>prevailing_wage</th>\n",
       "      <td>25480.0</td>\n",
       "      <td>74455.814592</td>\n",
       "      <td>52815.942327</td>\n",
       "      <td>2.1367</td>\n",
       "      <td>34015.48</td>\n",
       "      <td>70308.21</td>\n",
       "      <td>107735.5125</td>\n",
       "      <td>319210.27</td>\n",
       "    </tr>\n",
       "  </tbody>\n",
       "</table>\n",
       "</div>\n",
       "      <button class=\"colab-df-convert\" onclick=\"convertToInteractive('df-055ef2b3-77d7-40cf-be7e-cf35d70a47d5')\"\n",
       "              title=\"Convert this dataframe to an interactive table.\"\n",
       "              style=\"display:none;\">\n",
       "        \n",
       "  <svg xmlns=\"http://www.w3.org/2000/svg\" height=\"24px\"viewBox=\"0 0 24 24\"\n",
       "       width=\"24px\">\n",
       "    <path d=\"M0 0h24v24H0V0z\" fill=\"none\"/>\n",
       "    <path d=\"M18.56 5.44l.94 2.06.94-2.06 2.06-.94-2.06-.94-.94-2.06-.94 2.06-2.06.94zm-11 1L8.5 8.5l.94-2.06 2.06-.94-2.06-.94L8.5 2.5l-.94 2.06-2.06.94zm10 10l.94 2.06.94-2.06 2.06-.94-2.06-.94-.94-2.06-.94 2.06-2.06.94z\"/><path d=\"M17.41 7.96l-1.37-1.37c-.4-.4-.92-.59-1.43-.59-.52 0-1.04.2-1.43.59L10.3 9.45l-7.72 7.72c-.78.78-.78 2.05 0 2.83L4 21.41c.39.39.9.59 1.41.59.51 0 1.02-.2 1.41-.59l7.78-7.78 2.81-2.81c.8-.78.8-2.07 0-2.86zM5.41 20L4 18.59l7.72-7.72 1.47 1.35L5.41 20z\"/>\n",
       "  </svg>\n",
       "      </button>\n",
       "      \n",
       "  <style>\n",
       "    .colab-df-container {\n",
       "      display:flex;\n",
       "      flex-wrap:wrap;\n",
       "      gap: 12px;\n",
       "    }\n",
       "\n",
       "    .colab-df-convert {\n",
       "      background-color: #E8F0FE;\n",
       "      border: none;\n",
       "      border-radius: 50%;\n",
       "      cursor: pointer;\n",
       "      display: none;\n",
       "      fill: #1967D2;\n",
       "      height: 32px;\n",
       "      padding: 0 0 0 0;\n",
       "      width: 32px;\n",
       "    }\n",
       "\n",
       "    .colab-df-convert:hover {\n",
       "      background-color: #E2EBFA;\n",
       "      box-shadow: 0px 1px 2px rgba(60, 64, 67, 0.3), 0px 1px 3px 1px rgba(60, 64, 67, 0.15);\n",
       "      fill: #174EA6;\n",
       "    }\n",
       "\n",
       "    [theme=dark] .colab-df-convert {\n",
       "      background-color: #3B4455;\n",
       "      fill: #D2E3FC;\n",
       "    }\n",
       "\n",
       "    [theme=dark] .colab-df-convert:hover {\n",
       "      background-color: #434B5C;\n",
       "      box-shadow: 0px 1px 3px 1px rgba(0, 0, 0, 0.15);\n",
       "      filter: drop-shadow(0px 1px 2px rgba(0, 0, 0, 0.3));\n",
       "      fill: #FFFFFF;\n",
       "    }\n",
       "  </style>\n",
       "\n",
       "      <script>\n",
       "        const buttonEl =\n",
       "          document.querySelector('#df-055ef2b3-77d7-40cf-be7e-cf35d70a47d5 button.colab-df-convert');\n",
       "        buttonEl.style.display =\n",
       "          google.colab.kernel.accessAllowed ? 'block' : 'none';\n",
       "\n",
       "        async function convertToInteractive(key) {\n",
       "          const element = document.querySelector('#df-055ef2b3-77d7-40cf-be7e-cf35d70a47d5');\n",
       "          const dataTable =\n",
       "            await google.colab.kernel.invokeFunction('convertToInteractive',\n",
       "                                                     [key], {});\n",
       "          if (!dataTable) return;\n",
       "\n",
       "          const docLinkHtml = 'Like what you see? Visit the ' +\n",
       "            '<a target=\"_blank\" href=https://colab.research.google.com/notebooks/data_table.ipynb>data table notebook</a>'\n",
       "            + ' to learn more about interactive tables.';\n",
       "          element.innerHTML = '';\n",
       "          dataTable['output_type'] = 'display_data';\n",
       "          await google.colab.output.renderOutput(dataTable, element);\n",
       "          const docLink = document.createElement('div');\n",
       "          docLink.innerHTML = docLinkHtml;\n",
       "          element.appendChild(docLink);\n",
       "        }\n",
       "      </script>\n",
       "    </div>\n",
       "  </div>\n",
       "  "
      ],
      "text/plain": [
       "                   count          mean           std        min       25%  \\\n",
       "no_of_employees  25480.0   5667.043210  22877.928848   -26.0000   1022.00   \n",
       "yr_of_estab      25480.0   1979.409929     42.366929  1800.0000   1976.00   \n",
       "prevailing_wage  25480.0  74455.814592  52815.942327     2.1367  34015.48   \n",
       "\n",
       "                      50%          75%        max  \n",
       "no_of_employees   2109.00    3504.0000  602069.00  \n",
       "yr_of_estab       1997.00    2005.0000    2016.00  \n",
       "prevailing_wage  70308.21  107735.5125  319210.27  "
      ]
     },
     "execution_count": 8,
     "metadata": {},
     "output_type": "execute_result"
    }
   ],
   "source": [
    "evisa.describe().T"
   ]
  },
  {
   "cell_type": "markdown",
   "metadata": {
    "id": "BcT3D-q4jd-2"
   },
   "source": [
    "* The minimum value of no_of_employees is -26, which is odd. The negative values should be treated as missing values and will be replaced by the median."
   ]
  },
  {
   "cell_type": "code",
   "execution_count": 8,
   "metadata": {
    "colab": {
     "base_uri": "https://localhost:8080/"
    },
    "id": "tyJTBLjDk0-c",
    "outputId": "66257468-8155-4469-d962-c6091f84a87c"
   },
   "outputs": [
    {
     "data": {
      "text/plain": [
       "(33, 11)"
      ]
     },
     "execution_count": 8,
     "metadata": {},
     "output_type": "execute_result"
    }
   ],
   "source": [
    "evisa[evisa.no_of_employees<0].shape"
   ]
  },
  {
   "cell_type": "markdown",
   "metadata": {
    "id": "bDTG3olTmHVl"
   },
   "source": [
    "* 33 number of raws have negative number of employees"
   ]
  },
  {
   "cell_type": "code",
   "execution_count": 9,
   "metadata": {
    "colab": {
     "base_uri": "https://localhost:8080/"
    },
    "id": "I7rSv6bZmGJL",
    "outputId": "ea84cf35-da40-4ce1-a240-0eb50f598fd5"
   },
   "outputs": [
    {
     "data": {
      "text/plain": [
       "12"
      ]
     },
     "execution_count": 9,
     "metadata": {},
     "output_type": "execute_result"
    }
   ],
   "source": [
    "neg_employee = easyvisa.no_of_employees <= 0\n",
    "easyvisa.loc[neg_employee, \"no_of_employees\"] = easyvisa.no_of_employees.median()\n",
    "easyvisa.no_of_employees.min()"
   ]
  },
  {
   "cell_type": "markdown",
   "metadata": {
    "id": "o5Dqih0Pn1ja"
   },
   "source": [
    "* Now, the negative values have been replaced by the median value and the minimun number of employees is 12."
   ]
  },
  {
   "cell_type": "markdown",
   "metadata": {
    "id": "6vpwXh-tqniF"
   },
   "source": [
    "###**Detection of outliers**"
   ]
  },
  {
   "cell_type": "code",
   "execution_count": null,
   "metadata": {
    "colab": {
     "base_uri": "https://localhost:8080/",
     "height": 195
    },
    "id": "t9i9tSWboPfE",
    "outputId": "25f2184a-ad81-4df4-94fe-779c461cec67"
   },
   "outputs": [
    {
     "data": {
      "image/png": "[encoded data removed]",
      "text/plain": [
       "<Figure size 1440x1440 with 3 Axes>"
      ]
     },
     "metadata": {},
     "output_type": "display_data"
    }
   ],
   "source": [
    "plt.figure(figsize=(20, 20))\n",
    "numeric_columns = easyvisa.select_dtypes(include=np.number).columns.tolist()\n",
    "for i, variable in enumerate(numeric_columns):\n",
    "    plt.subplot(5, 4, i + 1)\n",
    "    plt.boxplot(easyvisa[variable], whis=1.5)\n",
    "    plt.tight_layout()\n",
    "    plt.title(variable)\n",
    "plt.show()"
   ]
  },
  {
   "cell_type": "markdown",
   "metadata": {
    "id": "jSlbfPUBufx1"
   },
   "source": [
    "* There seems to be outlierners but we have to group the values and observe if it should be treated"
   ]
  },
  {
   "cell_type": "markdown",
   "metadata": {
    "id": "9f3AoUu9wfW9"
   },
   "source": [
    "###**Creating new columns with actual values and data types**"
   ]
  },
  {
   "cell_type": "markdown",
   "metadata": {
    "id": "TbHKgoVH0av8"
   },
   "source": [
    "* Grouping number of employees for further simplication and to konw thw capacity of the companies"
   ]
  },
  {
   "cell_type": "code",
   "execution_count": 10,
   "metadata": {
    "colab": {
     "base_uri": "https://localhost:8080/"
    },
    "id": "FhS_N-GPwfCw",
    "outputId": "6b3eeb9c-506f-4717-a6e5-60392c8435c6"
   },
   "outputs": [
    {
     "data": {
      "text/plain": [
       "0-1000       6208\n",
       "1000-2000    5915\n",
       "2000-3000    4978\n",
       "4000+        4798\n",
       "3000-4000    3548\n",
       "Name: employee_no, dtype: int64"
      ]
     },
     "execution_count": 10,
     "metadata": {},
     "output_type": "execute_result"
    }
   ],
   "source": [
    "bins = [0,1000,2000,3000,4000,np.Inf]\n",
    "names = ['0-1000','1000-2000','2000-3000','3000-4000','4000+']\n",
    "easyvisa['employee_no'] = pd.cut(df['no_of_employees'], bins, labels=names)\n",
    "easyvisa.employee_no.value_counts()"
   ]
  },
  {
   "cell_type": "markdown",
   "metadata": {
    "id": "VGjY1e2m5Fvx"
   },
   "source": [
    "* Creating a new column that detailes the number of years the company has been in business."
   ]
  },
  {
   "cell_type": "code",
   "execution_count": 11,
   "metadata": {
    "colab": {
     "base_uri": "https://localhost:8080/"
    },
    "id": "IKiz3Lga5XOR",
    "outputId": "4808355f-610a-4fac-8d07-795c0a434f7f"
   },
   "outputs": [
    {
     "data": {
      "text/plain": [
       "30-50    8378\n",
       "0-10     5109\n",
       "50+      4856\n",
       "10-20    3746\n",
       "20-30    3391\n",
       "Name: yrs_in_business, dtype: int64"
      ]
     },
     "execution_count": 11,
     "metadata": {},
     "output_type": "execute_result"
    }
   ],
   "source": [
    "bins2 = [0,1966,1986,1996,2006,np.Inf]\n",
    "names = ['0-10','10-20','20-30','30-50','50+']\n",
    "easyvisa['yrs_in_business'] = pd.cut(easyvisa['yr_of_estab'], bins2, labels=names)\n",
    "easyvisa.yrs_in_business.value_counts()"
   ]
  },
  {
   "cell_type": "code",
   "execution_count": null,
   "metadata": {
    "colab": {
     "base_uri": "https://localhost:8080/",
     "height": 187
    },
    "id": "xAzLJ4oTEAsX",
    "outputId": "4fe68f9b-d568-4ed7-a36c-64c2320c0cb4"
   },
   "outputs": [
    {
     "data": {
      "image/png": "[encoded data removed]",
      "text/plain": [
       "<Figure size 1080x3240 with 3 Axes>"
      ]
     },
     "metadata": {},
     "output_type": "display_data"
    }
   ],
   "source": [
    "easyvisa_numcols = [\n",
    "    item for item in easyvisa.select_dtypes(include=np.number).columns \n",
    "]\n",
    "\n",
    "plt.figure(figsize=(15, 45))\n",
    "\n",
    "for i in range(len(easyvisa_numcols)):\n",
    "    plt.subplot(12, 3, i + 1)\n",
    "    plt.hist(easyvisa[easyvisa_numcols[i]], bins=50)\n",
    "    plt.tight_layout()\n",
    "    plt.title(easyvisa_numcols[i], fontsize=15)\n",
    "\n",
    "plt.show()"
   ]
  },
  {
   "cell_type": "markdown",
   "metadata": {
    "id": "Poqn7TUgGp_e"
   },
   "source": [
    "* I believe the outliers in these features are important, so i will not be treating them. as a result, i will drop number of employees and years of estab."
   ]
  },
  {
   "cell_type": "markdown",
   "metadata": {
    "id": "e6r2tY4ZHdAY"
   },
   "source": [
    "###**Data Preparation for Modeling**"
   ]
  },
  {
   "cell_type": "code",
   "execution_count": 12,
   "metadata": {
    "id": "fugbICgDGpm5"
   },
   "outputs": [],
   "source": [
    "easyvisa = easyvisa.drop(labels=['no_of_employees','yr_of_estab'], axis=1, inplace=True)"
   ]
  },
  {
   "cell_type": "markdown",
   "metadata": {
    "id": "V9bhLb1fHvSp"
   },
   "source": [
    "**Encoding Categorical Data**"
   ]
  },
  {
   "cell_type": "code",
   "execution_count": 13,
   "metadata": {
    "id": "3W5tU-JwKz0y"
   },
   "outputs": [],
   "source": [
    "evisa[\"case_status\"] = evisa[\"case_status\"].apply(lambda x: 1 if x == \"Certified\" else 0)"
   ]
  },
  {
   "cell_type": "markdown",
   "metadata": {
    "id": "Z9LuvscUK_ad"
   },
   "source": [
    "**Spliting the data**"
   ]
  },
  {
   "cell_type": "code",
   "execution_count": 14,
   "metadata": {
    "id": "ej-yeeacLA3I"
   },
   "outputs": [],
   "source": [
    "X = evisa.drop('case_status',axis=1)\n",
    "Y = evisa['case_status']\n",
    "X = pd.get_dummies(X, drop_first=True)\n",
    "x_train, x_test, y_train, y_test = train_test_split(X, Y, test_size=0.3, random_state=1)"
   ]
  },
  {
   "cell_type": "code",
   "execution_count": 15,
   "metadata": {
    "colab": {
     "base_uri": "https://localhost:8080/"
    },
    "id": "0-3Ir7MtM3YW",
    "outputId": "2f205d17-888d-4ec0-948c-51e0cd917f31"
   },
   "outputs": [
    {
     "name": "stdout",
     "output_type": "stream",
     "text": [
      "Shape of Training set :  (17836, 21)\n",
      "Shape of test set :  (7644, 21)\n",
      " \n",
      "Percentage of classes in training set:\n",
      "1    0.663602\n",
      "0    0.336398\n",
      "Name: case_status, dtype: float64\n",
      " \n",
      "Percentage of classes in test set:\n",
      "1    0.677917\n",
      "0    0.322083\n",
      "Name: case_status, dtype: float64\n"
     ]
    }
   ],
   "source": [
    "print(\"Shape of Training set : \", x_train.shape)\n",
    "print(\"Shape of test set : \", x_test.shape)\n",
    "print(' ')\n",
    "print(\"Percentage of classes in training set:\")\n",
    "print(y_train.value_counts(normalize=True))\n",
    "print(' ')\n",
    "print(\"Percentage of classes in test set:\")\n",
    "print(y_test.value_counts(normalize=True))"
   ]
  },
  {
   "cell_type": "markdown",
   "metadata": {
    "id": "wulEmob5NJcm"
   },
   "source": [
    "####**Model evaluation criterion**\n",
    "\n",
    "**The model can make wrong predictions as:**\n",
    "\n",
    "1. Predicting an applicant will be certified when the applicant is denied.\n",
    "2. Predicting an applicant will be denied when the applicant is certified.\n",
    "\n",
    "**Which case is more important?**\n",
    "* They are both important\n",
    "  * Predicting an applicant will be certified when the applicant is denied will result in a waste time and resources.\n",
    "  * Predicting an applicant will be denied when the applicant is certified will denay a work opportunity for a qualied person to work in the US. \n",
    "\n",
    "**Which metric to optimize?**\n",
    "\n",
    "* We would want F1-Score to be maximized, the greater the F1-Score higher the chances of predicting both the classes correctly."
   ]
  },
  {
   "cell_type": "markdown",
   "metadata": {
    "id": "eZbN2oclPnLR"
   },
   "source": [
    "Let's define a function to provide metric scores on the train and test set and a function to show confusion matrix so that we do not have to use the same code repetitively while evaluating models."
   ]
  },
  {
   "cell_type": "code",
   "execution_count": 16,
   "metadata": {
    "id": "1rp9yd9jRfg7"
   },
   "outputs": [],
   "source": [
    "def model_performance_classification_sklearn(model, predictors, target):\n",
    "    \"\"\"\n",
    "    Function to compute different metrics to check classification model performance\n",
    "\n",
    "    model: classifier\n",
    "    predictors: independent variables\n",
    "    target: dependent variable\n",
    "    \"\"\"\n",
    "\n",
    "\n",
    "    pred = model.predict(predictors)\n",
    "\n",
    "    acc = accuracy_score(target, pred)  \n",
    "    recall = recall_score(target, pred)  \n",
    "    precision = precision_score(target, pred)  \n",
    "    f1 = f1_score(target, pred)  \n",
    "\n",
    "\n",
    "    df_perf = pd.DataFrame(\n",
    "        {\n",
    "            \"Accuracy\": acc,\n",
    "            \"Recall\": recall,\n",
    "            \"Precision\": precision,\n",
    "            \"F1\": f1,\n",
    "        },\n",
    "        index=[0],\n",
    "    )\n",
    "\n",
    "    return df_perf"
   ]
  },
  {
   "cell_type": "code",
   "execution_count": 17,
   "metadata": {
    "id": "lTs5lswoR69T"
   },
   "outputs": [],
   "source": [
    "def confusion_matrix_sklearn(model, predictors, target):\n",
    "    \"\"\"\n",
    "    To plot the confusion_matrix with percentages\n",
    "\n",
    "    model: classifier\n",
    "    predictors: independent variables\n",
    "    target: dependent variable\n",
    "    \"\"\"\n",
    "    y_pred = model.predict(predictors)\n",
    "    cm = confusion_matrix(target, y_pred)\n",
    "    labels = np.asarray(\n",
    "        [\n",
    "            [\"{0:0.0f}\".format(item) + \"\\n{0:.2%}\".format(item / cm.flatten().sum())]\n",
    "            for item in cm.flatten()\n",
    "        ]\n",
    "    ).reshape(2, 2)\n",
    "\n",
    "    plt.figure(figsize=(6, 4))\n",
    "    sns.heatmap(cm, annot=labels, fmt=\"\")\n",
    "    plt.ylabel(\"True label\")\n",
    "    plt.xlabel(\"Predicted label\")"
   ]
  },
  {
   "cell_type": "markdown",
   "metadata": {
    "id": "ISW2dMLlSBGB"
   },
   "source": [
    "###**Decision Tree - Model Building and Hyperparameter Tuning**"
   ]
  },
  {
   "cell_type": "markdown",
   "metadata": {
    "id": "UyOAl94wSF_-"
   },
   "source": [
    "**Decision Tree**"
   ]
  },
  {
   "cell_type": "code",
   "execution_count": 18,
   "metadata": {
    "colab": {
     "base_uri": "https://localhost:8080/",
     "height": 386
    },
    "id": "EjUNHzy8SFIQ",
    "outputId": "3325bd16-4f42-4d60-cf90-260dea55b98c"
   },
   "outputs": [
    {
     "name": "stdout",
     "output_type": "stream",
     "text": [
      "Training performance:\n",
      "    Accuracy  Recall  Precision   F1\n",
      "0       1.0     1.0        1.0  1.0\n",
      "Testing performance:\n",
      "    Accuracy    Recall  Precision        F1\n",
      "0   0.66248  0.745658   0.753804  0.749709\n"
     ]
    },
    {
     "data": {
      "image/png": "[encoded data removed]",
      "text/plain": [
       "<Figure size 432x288 with 2 Axes>"
      ]
     },
     "metadata": {
      "needs_background": "light"
     },
     "output_type": "display_data"
    }
   ],
   "source": [
    "d_tree = DecisionTreeClassifier(criterion='gini', random_state=1, class_weight='balanced')\n",
    "d_tree.fit(x_train, y_train)\n",
    "\n",
    "#Calculating different metrics\n",
    "d_tree_model_train_perf=model_performance_classification_sklearn(d_tree,x_train,y_train)\n",
    "print(\"Training performance:\\n\",d_tree_model_train_perf)\n",
    "d_tree_model_test_perf=model_performance_classification_sklearn(d_tree,x_test,y_test)\n",
    "print(\"Testing performance:\\n\",d_tree_model_test_perf)\n",
    "\n",
    "#Creating confusion matrix\n",
    "confusion_matrix_sklearn(d_tree,x_test,y_test)"
   ]
  },
  {
   "cell_type": "markdown",
   "metadata": {
    "id": "dGXRlszST5rD"
   },
   "source": [
    "* The decision tree is overfitting the training data.\n",
    "* Let's try hyperparameter tuning and see if the model performance improves"
   ]
  },
  {
   "cell_type": "markdown",
   "metadata": {
    "id": "owrbuQKbUTSo"
   },
   "source": [
    "**Hyperparameter Tuning**"
   ]
  },
  {
   "cell_type": "code",
   "execution_count": 19,
   "metadata": {
    "colab": {
     "base_uri": "https://localhost:8080/"
    },
    "id": "FUf3Auq2V7wb",
    "outputId": "35ac52eb-e9ed-4feb-b7e3-0c201d7b458c"
   },
   "outputs": [
    {
     "data": {
      "text/plain": [
       "DecisionTreeClassifier(max_depth=5, max_leaf_nodes=4,\n",
       "                       min_impurity_decrease=0.0001, min_samples_leaf=3,\n",
       "                       random_state=1)"
      ]
     },
     "execution_count": 19,
     "metadata": {},
     "output_type": "execute_result"
    }
   ],
   "source": [
    "dtree_estimator = DecisionTreeClassifier(random_state=1)\n",
    "\n",
    "\n",
    "parameters = {'max_depth': np.arange(5,30,5),\n",
    "              'min_samples_leaf': [3, 5, 7],\n",
    "              'max_leaf_nodes' : [2, 4, 6],\n",
    "              'min_impurity_decrease': [0.0001,0.001,0.01,0.1]\n",
    "             }\n",
    "\n",
    "scorer = metrics.make_scorer(metrics.f1_score)\n",
    "\n",
    "\n",
    "grid_obj = GridSearchCV(dtree_estimator, parameters, scoring=scorer, cv=5)\n",
    "grid_obj = grid_obj.fit(x_train, y_train)\n",
    "\n",
    "\n",
    "dtree_estimator = grid_obj.best_estimator_\n",
    "\n",
    "dtree_estimator.fit(x_train, y_train)"
   ]
  },
  {
   "cell_type": "code",
   "execution_count": 20,
   "metadata": {
    "colab": {
     "base_uri": "https://localhost:8080/",
     "height": 386
    },
    "id": "LGDVDIKLURl0",
    "outputId": "2a3ddfe3-85f3-49ce-dac2-12178c1c662b"
   },
   "outputs": [
    {
     "name": "stdout",
     "output_type": "stream",
     "text": [
      "Training performance:\n",
      "    Accuracy    Recall  Precision        F1\n",
      "0  0.725275  0.908837   0.737893  0.814492\n",
      "Testing performance:\n",
      "    Accuracy    Recall  Precision        F1\n",
      "0  0.733386  0.907758   0.750958  0.821947\n"
     ]
    },
    {
     "data": {
      "image/png": "[encoded data removed]",
      "text/plain": [
       "<Figure size 432x288 with 2 Axes>"
      ]
     },
     "metadata": {
      "needs_background": "light"
     },
     "output_type": "display_data"
    }
   ],
   "source": [
    "dtree_estimator_model_train_perf=model_performance_classification_sklearn(dtree_estimator,x_train,y_train)\n",
    "print(\"Training performance:\\n\",dtree_estimator_model_train_perf)\n",
    "dtree_estimator_model_test_perf=model_performance_classification_sklearn(dtree_estimator,x_test,y_test)\n",
    "print(\"Testing performance:\\n\",dtree_estimator_model_test_perf)\n",
    "\n",
    "\n",
    "confusion_matrix_sklearn(dtree_estimator,x_test,y_test)"
   ]
  },
  {
   "cell_type": "markdown",
   "metadata": {
    "id": "QJa_DADfXSF2"
   },
   "source": [
    "* The tuned decision tree model has performed well.\n",
    "* The F1-score for the test set has been increased from 0.74 for the initial model to 0.82 \n",
    " "
   ]
  },
  {
   "cell_type": "markdown",
   "metadata": {
    "id": "4sFn_48_YGKc"
   },
   "source": [
    "###**Bagging - Model Building and Hyperparameter Tuning**"
   ]
  },
  {
   "cell_type": "markdown",
   "metadata": {
    "id": "VoDlLPiFYT2P"
   },
   "source": [
    "**Random Forest Classifier**"
   ]
  },
  {
   "cell_type": "code",
   "execution_count": 21,
   "metadata": {
    "colab": {
     "base_uri": "https://localhost:8080/",
     "height": 386
    },
    "id": "KHfWJvfwW1R0",
    "outputId": "6baab1f4-69a8-4079-d068-9aa4c3dcfa3f"
   },
   "outputs": [
    {
     "name": "stdout",
     "output_type": "stream",
     "text": [
      "Training performance:\n",
      "    Accuracy  Recall  Precision        F1\n",
      "0  0.999888     1.0   0.999831  0.999916\n",
      "Testing performance:\n",
      "    Accuracy    Recall  Precision        F1\n",
      "0   0.72763  0.834427    0.77938  0.805965\n"
     ]
    },
    {
     "data": {
      "image/png": "[encoded data removed]",
      "text/plain": [
       "<Figure size 432x288 with 2 Axes>"
      ]
     },
     "metadata": {
      "needs_background": "light"
     },
     "output_type": "display_data"
    }
   ],
   "source": [
    "rf_estimator = RandomForestClassifier(random_state=1)\n",
    "rf_estimator.fit(x_train,y_train)\n",
    "\n",
    "\n",
    "rf_estimator_model_train_perf=model_performance_classification_sklearn(rf_estimator,x_train,y_train)\n",
    "print(\"Training performance:\\n\",rf_estimator_model_train_perf)\n",
    "rf_estimator_model_test_perf=model_performance_classification_sklearn(rf_estimator,x_test,y_test)\n",
    "print(\"Testing performance:\\n\",rf_estimator_model_test_perf)\n",
    "\n",
    "\n",
    "confusion_matrix_sklearn(rf_estimator,x_test,y_test)"
   ]
  },
  {
   "cell_type": "markdown",
   "metadata": {
    "id": "6yR79HPfc7Os"
   },
   "source": [
    "This Random Forest is overfitting to the training dataset and has F1 score approxiatly 1 which is high."
   ]
  },
  {
   "cell_type": "markdown",
   "metadata": {
    "id": "UwBxe9zmc92l"
   },
   "source": [
    "**Hyperparameter Tuning**"
   ]
  },
  {
   "cell_type": "code",
   "execution_count": 23,
   "metadata": {
    "colab": {
     "base_uri": "https://localhost:8080/"
    },
    "id": "ZFD5ET3Qgs7J",
    "outputId": "f95693dc-e337-4bdd-deeb-9551b61efd28"
   },
   "outputs": [
    {
     "data": {
      "text/plain": [
       "RandomForestClassifier(max_features='sqrt', max_samples=0.6000000000000001,\n",
       "                       min_samples_leaf=8, min_samples_split=3, n_estimators=30,\n",
       "                       random_state=1)"
      ]
     },
     "execution_count": 23,
     "metadata": {},
     "output_type": "execute_result"
    }
   ],
   "source": [
    "rf_tuned = RandomForestClassifier(random_state=1)\n",
    "\n",
    "# Grid of parameters to choose from\n",
    "parameters = {\"n_estimators\": np.arange(10, 40, 10),\n",
    "              \"min_samples_leaf\": np.arange(5, 10),\n",
    "              \"min_samples_split\": [3, 5, 7],\n",
    "              \"max_features\": [\"sqrt\", \"log2\"],\n",
    "              \"max_samples\": np.arange(0.3, 0.7, 0.1),\n",
    "}\n",
    "\n",
    "# Type of scoring used to compare parameter combinations\n",
    "scorer = metrics.make_scorer(metrics.f1_score)\n",
    "\n",
    "# Run the grid search\n",
    "grid_obj = GridSearchCV(rf_tuned, parameters, scoring=scorer, cv=5,n_jobs=-1)\n",
    "grid_obj = grid_obj.fit(x_train, y_train)\n",
    "\n",
    "# Set the clf to the best combination of parameters\n",
    "rf_tuned = grid_obj.best_estimator_\n",
    "\n",
    "# Fit the best algorithm to the data. \n",
    "rf_tuned.fit(x_train, y_train)"
   ]
  },
  {
   "cell_type": "code",
   "execution_count": 24,
   "metadata": {
    "colab": {
     "base_uri": "https://localhost:8080/",
     "height": 387
    },
    "id": "rlFOweRfgbVw",
    "outputId": "d1f9e869-9404-42ae-e39d-f594783baf97"
   },
   "outputs": [
    {
     "name": "stdout",
     "output_type": "stream",
     "text": [
      "Training performance:\n",
      "    Accuracy    Recall  Precision        F1\n",
      "0  0.769119  0.895657   0.786191  0.837362\n",
      "Testing performance:\n",
      "    Accuracy    Recall  Precision        F1\n",
      "0  0.747253  0.879197   0.777209  0.825063\n"
     ]
    },
    {
     "data": {
      "image/png": "[encoded data removed]",
      "text/plain": [
       "<Figure size 432x288 with 2 Axes>"
      ]
     },
     "metadata": {
      "needs_background": "light"
     },
     "output_type": "display_data"
    }
   ],
   "source": [
    "rf_tuned_model_train_perf=model_performance_classification_sklearn(rf_tuned,x_train,y_train)\n",
    "print(\"Training performance:\\n\",rf_tuned_model_train_perf)\n",
    "rf_tuned_model_test_perf=model_performance_classification_sklearn(rf_tuned,x_test,y_test)\n",
    "print(\"Testing performance:\\n\",rf_tuned_model_test_perf)\n",
    "\n",
    "#Creating confusion matrix\n",
    "confusion_matrix_sklearn(rf_tuned,x_test,y_test)\n"
   ]
  },
  {
   "cell_type": "markdown",
   "metadata": {
    "id": "PQbHsSfYir4o"
   },
   "source": [
    "* The Random Forest after tuning is equal training and testing datasets showing that the model is not overfitting.\n",
    "* The f1 score on the test data, after tuning, has increased.\n"
   ]
  },
  {
   "cell_type": "markdown",
   "metadata": {
    "id": "gp_T09ycki0J"
   },
   "source": [
    "**Bagging Classifier**"
   ]
  },
  {
   "cell_type": "code",
   "execution_count": 25,
   "metadata": {
    "colab": {
     "base_uri": "https://localhost:8080/",
     "height": 354
    },
    "id": "G9ViODLni0qw",
    "outputId": "be0f9742-4837-4e4a-acde-42d1afeba59a"
   },
   "outputs": [
    {
     "name": "stdout",
     "output_type": "stream",
     "text": [
      "   Accuracy   Recall  Precision        F1\n",
      "0  0.984245  0.98513   0.991075  0.988094\n",
      "   Accuracy   Recall  Precision        F1\n",
      "0  0.696232  0.77364   0.777239  0.775435\n"
     ]
    },
    {
     "data": {
      "image/png": "[encoded data removed]",
      "text/plain": [
       "<Figure size 432x288 with 2 Axes>"
      ]
     },
     "metadata": {
      "needs_background": "light"
     },
     "output_type": "display_data"
    }
   ],
   "source": [
    "bagging_classifier = BaggingClassifier(random_state=1)\n",
    "bagging_classifier.fit(x_train,y_train)\n",
    "\n",
    "#Calculating different metrics\n",
    "bagging_classifier_model_train_perf=model_performance_classification_sklearn(bagging_classifier,x_train,y_train)\n",
    "print(bagging_classifier_model_train_perf)\n",
    "bagging_classifier_model_test_perf=model_performance_classification_sklearn(bagging_classifier,x_test,y_test)\n",
    "print(bagging_classifier_model_test_perf)\n",
    "\n",
    "#Creating confusion matrix\n",
    "confusion_matrix_sklearn(bagging_classifier,x_test,y_test)"
   ]
  },
  {
   "cell_type": "markdown",
   "metadata": {
    "id": "eR8vpGUQk6RC"
   },
   "source": [
    "* Bagging classifier is overfitting the training data.\n",
    "* Let's try hyperparameter tuning and see if the model performance improves."
   ]
  },
  {
   "cell_type": "markdown",
   "metadata": {
    "id": "nCQdDQU-k-Yn"
   },
   "source": [
    "**Hyperparameter Tuning**"
   ]
  },
  {
   "cell_type": "code",
   "execution_count": 33,
   "metadata": {
    "colab": {
     "base_uri": "https://localhost:8080/"
    },
    "id": "DymzcrIOlAya",
    "outputId": "0264dd00-3474-4157-cfd4-1d536fa6bf4e"
   },
   "outputs": [
    {
     "data": {
      "text/plain": [
       "BaggingClassifier(max_features=0.8, max_samples=0.8, n_estimators=90,\n",
       "                  random_state=1)"
      ]
     },
     "execution_count": 33,
     "metadata": {},
     "output_type": "execute_result"
    }
   ],
   "source": [
    "bagging_estimator_tuned = BaggingClassifier(random_state=1)\n",
    "\n",
    "# Grid of parameters to choose from\n",
    "parameters = {'max_samples': [0.7,0.8,0.9,1], \n",
    "              'max_features': [0.7,0.8,0.9,1],\n",
    "              'n_estimators' :  np.arange(50, 100, 10)\n",
    "             }\n",
    "\n",
    "# Type of scoring used to compare parameter combinations\n",
    "scorer = metrics.make_scorer(metrics.f1_score)\n",
    "\n",
    "# Run the grid search\n",
    "grid_obj = GridSearchCV(bagging_estimator_tuned, parameters, scoring=scorer,cv=5)\n",
    "grid_obj = grid_obj.fit(x_train, y_train)\n",
    "\n",
    "# Set the clf to the best combination of parameters\n",
    "bagging_estimator_tuned = grid_obj.best_estimator_\n",
    "\n",
    "# Fit the best algorithm to the data.\n",
    "bagging_estimator_tuned.fit(x_train, y_train)"
   ]
  },
  {
   "cell_type": "code",
   "execution_count": 34,
   "metadata": {
    "colab": {
     "base_uri": "https://localhost:8080/",
     "height": 352
    },
    "id": "pQHI262Ro7n4",
    "outputId": "f998a891-9965-446a-b13b-38e4c4865113"
   },
   "outputs": [
    {
     "name": "stdout",
     "output_type": "stream",
     "text": [
      "   Accuracy  Recall  Precision        F1\n",
      "0  0.999215     1.0   0.998819  0.999409\n",
      "   Accuracy    Recall  Precision       F1\n",
      "0  0.733647  0.878039   0.764192  0.81717\n"
     ]
    },
    {
     "data": {
      "image/png": "[encoded data removed]",
      "text/plain": [
       "<Figure size 432x288 with 2 Axes>"
      ]
     },
     "metadata": {
      "needs_background": "light"
     },
     "output_type": "display_data"
    }
   ],
   "source": [
    "bagging_estimator_tuned_model_train_perf=model_performance_classification_sklearn(bagging_estimator_tuned,x_train,y_train)\n",
    "print(bagging_estimator_tuned_model_train_perf)\n",
    "bagging_estimator_tuned_model_test_perf=model_performance_classification_sklearn(bagging_estimator_tuned,x_test,y_test)\n",
    "print(bagging_estimator_tuned_model_test_perf)\n",
    "\n",
    "#Creating confusion matrix\n",
    "confusion_matrix_sklearn(bagging_estimator_tuned,x_test,y_test)"
   ]
  },
  {
   "cell_type": "markdown",
   "metadata": {
    "id": "FmDkDcgYpuVu"
   },
   "source": [
    "* This model is still overfitting but the f1 score have increased."
   ]
  },
  {
   "cell_type": "markdown",
   "metadata": {
    "id": "gDdNaroPqHIP"
   },
   "source": [
    "###**Boosting - Model Building and Hyperparameter Tunin**g"
   ]
  },
  {
   "cell_type": "markdown",
   "metadata": {
    "id": "7ZLOaQa9qNB4"
   },
   "source": [
    "####**AdaBoost Classifier**"
   ]
  },
  {
   "cell_type": "code",
   "execution_count": 31,
   "metadata": {
    "colab": {
     "base_uri": "https://localhost:8080/",
     "height": 350
    },
    "id": "Am4q4wVRphsT",
    "outputId": "88c66192-6154-4f39-dc20-135eb49fdc54"
   },
   "outputs": [
    {
     "name": "stdout",
     "output_type": "stream",
     "text": [
      "   Accuracy    Recall  Precision        F1\n",
      "0  0.737329  0.886617   0.758401  0.817513\n",
      "   Accuracy    Recall  Precision        F1\n",
      "0  0.737572  0.885565   0.764578  0.820637\n"
     ]
    },
    {
     "data": {
      "image/png": "[encoded data removed]",
      "text/plain": [
       "<Figure size 432x288 with 2 Axes>"
      ]
     },
     "metadata": {
      "needs_background": "light"
     },
     "output_type": "display_data"
    }
   ],
   "source": [
    "ab_classifier = AdaBoostClassifier(random_state=1)\n",
    "ab_classifier.fit(x_train,y_train)\n",
    "\n",
    "#Calculating different metrics\n",
    "ab_classifier_model_train_perf=model_performance_classification_sklearn(ab_classifier,x_train,y_train)\n",
    "print(ab_classifier_model_train_perf)\n",
    "ab_classifier_model_test_perf=model_performance_classification_sklearn(ab_classifier,x_test,y_test)\n",
    "print(ab_classifier_model_test_perf)\n",
    "\n",
    "#Creating confusion matrix\n",
    "confusion_matrix_sklearn(ab_classifier,x_test,y_test)"
   ]
  },
  {
   "cell_type": "markdown",
   "metadata": {
    "id": "ubZhhGiMrWbT"
   },
   "source": [
    "* The training and test data sets are very close. The testing data has a fair f1 score.\n",
    "* Even though it is not overfitting, tuning it might help with the model's performance."
   ]
  },
  {
   "cell_type": "markdown",
   "metadata": {
    "id": "l17afgZRrst4"
   },
   "source": [
    "**Hyperparameter Tuning**"
   ]
  },
  {
   "cell_type": "code",
   "execution_count": 43,
   "metadata": {
    "colab": {
     "base_uri": "https://localhost:8080/"
    },
    "id": "5xJE98GTsF5K",
    "outputId": "893bb367-150d-4d6c-cc12-c455e7782414"
   },
   "outputs": [
    {
     "data": {
      "text/plain": [
       "AdaBoostClassifier(base_estimator=DecisionTreeClassifier(max_depth=2),\n",
       "                   learning_rate=0.8, n_estimators=10, random_state=1)"
      ]
     },
     "execution_count": 43,
     "metadata": {},
     "output_type": "execute_result"
    }
   ],
   "source": [
    "abc_tuned = AdaBoostClassifier(random_state=1)\n",
    "\n",
    "# Grid of parameters to choose from\n",
    "parameters = {\n",
    "    #Let's try different max_depth for base_estimator\n",
    "    \"base_estimator\":[DecisionTreeClassifier(max_depth=1),DecisionTreeClassifier(max_depth=2),\n",
    "                      DecisionTreeClassifier(max_depth=3)],\n",
    "    \"n_estimators\": np.arange(10,110,10),\n",
    "    \"learning_rate\":np.arange(0.1,2,0.1)\n",
    "}\n",
    "\n",
    "# Type of scoring used to compare parameter  combinations\n",
    "scorer = metrics.make_scorer(metrics.f1_score)\n",
    "\n",
    "rand_abc = RandomizedSearchCV(abc_tuned, parameters, scoring=scorer,cv=5, n_jobs=-1, random_state=1)\n",
    "rand_abc = rand_abc.fit(x_train, y_train)\n",
    "\n",
    "# Set the clf to the best combination of parameters\n",
    "abc_tuned = rand_abc.best_estimator_\n",
    "\n",
    "\n",
    "# Fit the best algorithm to the data.\n",
    "abc_tuned.fit(x_train, y_train)"
   ]
  },
  {
   "cell_type": "code",
   "execution_count": 44,
   "metadata": {
    "colab": {
     "base_uri": "https://localhost:8080/",
     "height": 351
    },
    "id": "y2c9HUy1xyq4",
    "outputId": "bdcf19bf-6a14-428a-e437-898b655e0627"
   },
   "outputs": [
    {
     "name": "stdout",
     "output_type": "stream",
     "text": [
      "   Accuracy   Recall  Precision        F1\n",
      "0  0.745515  0.88442   0.767505  0.821825\n",
      "   Accuracy    Recall  Precision        F1\n",
      "0  0.747122  0.879776   0.776793  0.825084\n"
     ]
    },
    {
     "data": {
      "image/png": "[encoded data removed]",
      "text/plain": [
       "<Figure size 432x288 with 2 Axes>"
      ]
     },
     "metadata": {
      "needs_background": "light"
     },
     "output_type": "display_data"
    }
   ],
   "source": [
    "abc_tuned_model_train_perf=model_performance_classification_sklearn(abc_tuned,x_train,y_train)\n",
    "print(abc_tuned_model_train_perf)\n",
    "abc_tuned_model_test_perf=model_performance_classification_sklearn(abc_tuned,x_test,y_test)\n",
    "print(abc_tuned_model_test_perf)\n",
    "\n",
    "#Creating confusion matrix\n",
    "confusion_matrix_sklearn(abc_tuned,x_test,y_test)"
   ]
  },
  {
   "cell_type": "markdown",
   "metadata": {
    "id": "UZAYOSlFj3qT"
   },
   "source": [
    "* There was not a significant improvement observed in this model. \n",
    "* The training data's fi score seems to have dropped a little."
   ]
  },
  {
   "cell_type": "markdown",
   "metadata": {
    "id": "wCC4V1E2j4_8"
   },
   "source": [
    "####**Gradient Boosting Classifier**"
   ]
  },
  {
   "cell_type": "code",
   "execution_count": 36,
   "metadata": {
    "colab": {
     "base_uri": "https://localhost:8080/",
     "height": 386
    },
    "id": "wqfJaXIEj4Qg",
    "outputId": "97a18248-372b-4b32-eebf-15174df1bd02"
   },
   "outputs": [
    {
     "name": "stdout",
     "output_type": "stream",
     "text": [
      "Training performance:\n",
      "    Accuracy    Recall  Precision        F1\n",
      "0  0.756279  0.875549   0.782881  0.826626\n",
      "Testing performance:\n",
      "    Accuracy   Recall  Precision        F1\n",
      "0  0.751177  0.86704   0.787417  0.825312\n"
     ]
    },
    {
     "data": {
      "image/png": "[encoded data removed]",
      "text/plain": [
       "<Figure size 432x288 with 2 Axes>"
      ]
     },
     "metadata": {
      "needs_background": "light"
     },
     "output_type": "display_data"
    }
   ],
   "source": [
    "#Fitting the model\n",
    "gb_classifier = GradientBoostingClassifier(random_state=1)\n",
    "gb_classifier.fit(x_train,y_train)\n",
    "\n",
    "#Calculating different metrics\n",
    "gb_classifier_model_train_perf=model_performance_classification_sklearn(gb_classifier,x_train,y_train)\n",
    "print(\"Training performance:\\n\",gb_classifier_model_train_perf)\n",
    "gb_classifier_model_test_perf=model_performance_classification_sklearn(gb_classifier,x_test,y_test)\n",
    "print(\"Testing performance:\\n\",gb_classifier_model_test_perf)\n",
    "\n",
    "#Creating confusion matrix\n",
    "confusion_matrix_sklearn(gb_classifier,x_test,y_test)"
   ]
  },
  {
   "cell_type": "markdown",
   "metadata": {
    "id": "6N2GP292yBeU"
   },
   "source": [
    "* This model seems to perform well on both the training and test data.\n",
    "* It does not show overfitting.\n",
    "* The F1-score for both training and test data sets is above 0.82."
   ]
  },
  {
   "cell_type": "markdown",
   "metadata": {
    "id": "aRLPn20WkVPO"
   },
   "source": [
    "**Hyperparameter Tuning**"
   ]
  },
  {
   "cell_type": "code",
   "execution_count": 48,
   "metadata": {
    "colab": {
     "base_uri": "https://localhost:8080/"
    },
    "id": "YhpkubZGkNSo",
    "outputId": "fa61279e-2cfc-49ae-9ee1-e36c0cc92f5b"
   },
   "outputs": [
    {
     "data": {
      "text/plain": [
       "GradientBoostingClassifier(max_features=1, n_estimators=250, random_state=1,\n",
       "                           subsample=1)"
      ]
     },
     "execution_count": 48,
     "metadata": {},
     "output_type": "execute_result"
    }
   ],
   "source": [
    "gbc_tuned = GradientBoostingClassifier(random_state=1)\n",
    "\n",
    "# Grid of parameters to choose from\n",
    "parameters = {\n",
    "    \"n_estimators\": [150,2000,250,300],\n",
    "    \"subsample\":[0.8,0.9,1],\n",
    "    \"max_features\":[0.7,0.8,0.9,1],\n",
    "    \"learning_rate\": np.arange(0.1, 0.4, 0.1)\n",
    "}\n",
    "\n",
    "# Type of scoring used to compare parameter combinations\n",
    "scorer = metrics.make_scorer(metrics.f1_score)\n",
    "\n",
    "\n",
    "rand_gb = RandomizedSearchCV(gbc_tuned, parameters, scoring=scorer,cv=5, n_jobs=-1, random_state=1)\n",
    "rand_gb = rand_gb.fit(x_train, y_train)\n",
    "gbc_tuned = rand_gb.best_estimator_\n",
    "gbc_tuned.fit(x_train, y_train)"
   ]
  },
  {
   "cell_type": "code",
   "execution_count": 49,
   "metadata": {
    "colab": {
     "base_uri": "https://localhost:8080/",
     "height": 389
    },
    "id": "wHubNbQmkty8",
    "outputId": "7e0585bd-1cb6-47bf-f5b2-2d3b08e47e0a"
   },
   "outputs": [
    {
     "name": "stdout",
     "output_type": "stream",
     "text": [
      "Training performance:\n",
      "    Accuracy    Recall  Precision        F1\n",
      "0  0.751682  0.879267   0.776236  0.824545\n",
      "Testing performance:\n",
      "    Accuracy    Recall  Precision        F1\n",
      "0  0.749215  0.873601      0.782  0.825267\n"
     ]
    },
    {
     "data": {
      "image/png": "[encoded data removed]",
      "text/plain": [
       "<Figure size 432x288 with 2 Axes>"
      ]
     },
     "metadata": {
      "needs_background": "light"
     },
     "output_type": "display_data"
    }
   ],
   "source": [
    "gbc_tuned_model_train_perf=model_performance_classification_sklearn(gbc_tuned,x_train,y_train)\n",
    "print(\"Training performance:\\n\",gbc_tuned_model_train_perf)\n",
    "gbc_tuned_model_test_perf=model_performance_classification_sklearn(gbc_tuned,x_test,y_test)\n",
    "print(\"Testing performance:\\n\",gbc_tuned_model_test_perf)\n",
    "\n",
    "#Creating confusion matrix\n",
    "confusion_matrix_sklearn(gbc_tuned,x_test,y_test)"
   ]
  },
  {
   "cell_type": "markdown",
   "metadata": {
    "id": "eXmdHqS2xwR8"
   },
   "source": [
    "* The tuning did not improve the performace\n",
    "* This model seems to perform well on both the training and test data.\n",
    "* It does not show overfitting.\n"
   ]
  },
  {
   "cell_type": "markdown",
   "metadata": {
    "id": "BwWPybkPxxVF"
   },
   "source": [
    "####**XGBoost Classifier**"
   ]
  },
  {
   "cell_type": "code",
   "execution_count": 51,
   "metadata": {
    "colab": {
     "base_uri": "https://localhost:8080/",
     "height": 386
    },
    "id": "mXVaXlTXxwDF",
    "outputId": "c57af8d8-80e5-42bd-a2ab-e81bbc029a35"
   },
   "outputs": [
    {
     "name": "stdout",
     "output_type": "stream",
     "text": [
      "Training performance:\n",
      "    Accuracy    Recall  Precision       F1\n",
      "0  0.754597  0.873437   0.782174  0.82529\n",
      "Testing performance:\n",
      "    Accuracy    Recall  Precision        F1\n",
      "0  0.749608  0.865496   0.786566  0.824146\n"
     ]
    },
    {
     "data": {
      "image/png": "[encoded data removed]",
      "text/plain": [
       "<Figure size 432x288 with 2 Axes>"
      ]
     },
     "metadata": {
      "needs_background": "light"
     },
     "output_type": "display_data"
    }
   ],
   "source": [
    "xgb_classifier = XGBClassifier(random_state=1, eval_metric='logloss')\n",
    "xgb_classifier.fit(x_train,y_train)\n",
    "\n",
    "#Calculating different metrics\n",
    "xgb_classifier_model_train_perf=model_performance_classification_sklearn(xgb_classifier,x_train,y_train)\n",
    "print(\"Training performance:\\n\",xgb_classifier_model_train_perf)\n",
    "xgb_classifier_model_test_perf=model_performance_classification_sklearn(xgb_classifier,x_test,y_test)\n",
    "print(\"Testing performance:\\n\",xgb_classifier_model_test_perf)\n",
    "\n",
    "#Creating confusion matrix\n",
    "confusion_matrix_sklearn(xgb_classifier,x_test,y_test)"
   ]
  },
  {
   "cell_type": "markdown",
   "metadata": {
    "id": "k7dP0C9fyASr"
   },
   "source": [
    "* The model is not overfitting even though the training data is performing better that the testing data."
   ]
  },
  {
   "cell_type": "markdown",
   "metadata": {
    "id": "TY5kmm0d9FXD"
   },
   "source": [
    "**Hyperparameter Tuning**"
   ]
  },
  {
   "cell_type": "code",
   "execution_count": 52,
   "metadata": {
    "colab": {
     "base_uri": "https://localhost:8080/"
    },
    "id": "EFuTWFkD9Mp_",
    "outputId": "e07d9ead-8bc8-4d9d-a670-653588145577"
   },
   "outputs": [
    {
     "data": {
      "text/plain": [
       "XGBClassifier(colsample_bylevel=0.9, colsample_bytree=0.5,\n",
       "              eval_metric='logloss', n_estimators=70, random_state=1,\n",
       "              subsample=0.7)"
      ]
     },
     "execution_count": 52,
     "metadata": {},
     "output_type": "execute_result"
    }
   ],
   "source": [
    "xgb_tuned = XGBClassifier(random_state=1, eval_metric='logloss')\n",
    "\n",
    "\n",
    "parameters = {\"n_estimators\": np.arange(10,100,20),\n",
    "              \"scale_pos_weight\":[0,1,2,5],\n",
    "              \"subsample\":[0.5,0.7,0.9,1],\n",
    "              \"learning_rate\":[0.01,0.1,0.2,0.05],\n",
    "              \"gamma\":[0,1,3],\n",
    "              \"colsample_bytree\":[0.5,0.7,0.9,1],\n",
    "              \"colsample_bylevel\":[0.5,0.7,0.9,1]}\n",
    "\n",
    "\n",
    "# Type of scoring used to compare parameter combinations\n",
    "scorer = metrics.make_scorer(metrics.f1_score)\n",
    "\n",
    "# Run the grid search\n",
    "rand_xgb = RandomizedSearchCV(xgb_tuned, parameters, scoring=scorer,cv=5, n_jobs=-1, random_state=1)\n",
    "rand_xgb = rand_xgb.fit(x_train, y_train)\n",
    "\n",
    "# Set the clf to the best combination of parameters\n",
    "xgb_tuned = rand_xgb.best_estimator_\n",
    "\n",
    "# Fit the best algorithm to the data.\n",
    "xgb_tuned.fit(x_train, y_train)"
   ]
  },
  {
   "cell_type": "code",
   "execution_count": 53,
   "metadata": {
    "colab": {
     "base_uri": "https://localhost:8080/",
     "height": 389
    },
    "id": "TTtE7IPd9w9d",
    "outputId": "e63b02be-959e-4ed2-e463-0a3f37580322"
   },
   "outputs": [
    {
     "name": "stdout",
     "output_type": "stream",
     "text": [
      "Training performance:\n",
      "    Accuracy    Recall  Precision        F1\n",
      "0  0.750617  0.876732   0.776373  0.823506\n",
      "Testing performance:\n",
      "    Accuracy    Recall  Precision        F1\n",
      "0  0.749869  0.872057    0.78346  0.825388\n"
     ]
    },
    {
     "data": {
      "image/png": "[encoded data removed]",
      "text/plain": [
       "<Figure size 432x288 with 2 Axes>"
      ]
     },
     "metadata": {
      "needs_background": "light"
     },
     "output_type": "display_data"
    }
   ],
   "source": [
    "xgb_tuned_model_train_perf=model_performance_classification_sklearn(xgb_tuned,x_train,y_train)\n",
    "print(\"Training performance:\\n\",xgb_tuned_model_train_perf)\n",
    "xgb_tuned_model_test_perf=model_performance_classification_sklearn(xgb_tuned,x_test,y_test)\n",
    "print(\"Testing performance:\\n\",xgb_tuned_model_test_perf)\n",
    "\n",
    "#Creating confusion matrix\n",
    "confusion_matrix_sklearn(xgb_tuned,x_test,y_test)"
   ]
  },
  {
   "cell_type": "markdown",
   "metadata": {
    "id": "g2gvrfFS-Jew"
   },
   "source": [
    "* The model's performance on the test set was improved slightly via tuning, increasing the F1-score from 0.824 to 0.825\n",
    "* But overall, the model have similar peformace."
   ]
  },
  {
   "cell_type": "markdown",
   "metadata": {
    "id": "RfUbOYXz-sAY"
   },
   "source": [
    "####**Stacking Model**"
   ]
  },
  {
   "cell_type": "code",
   "execution_count": 54,
   "metadata": {
    "colab": {
     "base_uri": "https://localhost:8080/"
    },
    "id": "uaA-ei2q-wt4",
    "outputId": "6866b7e8-6ad6-41fb-cafe-8ad04abc5aba"
   },
   "outputs": [
    {
     "data": {
      "text/plain": [
       "StackingClassifier(estimators=[('Random Forest',\n",
       "                                RandomForestClassifier(max_features='sqrt',\n",
       "                                                       max_samples=0.6000000000000001,\n",
       "                                                       min_samples_leaf=8,\n",
       "                                                       min_samples_split=3,\n",
       "                                                       n_estimators=30,\n",
       "                                                       random_state=1)),\n",
       "                               ('Gradient Boosting',\n",
       "                                GradientBoostingClassifier(max_features=1,\n",
       "                                                           n_estimators=250,\n",
       "                                                           random_state=1,\n",
       "                                                           subsample=1)),\n",
       "                               ('Decision Tree',\n",
       "                                DecisionTreeClassifier(max_depth=5,\n",
       "                                                       max_leaf_nodes=4,\n",
       "                                                       min_impurity_decrease=0.0001,\n",
       "                                                       min_samples_leaf=3,\n",
       "                                                       random_state=1))],\n",
       "                   final_estimator=XGBClassifier(colsample_bylevel=0.9,\n",
       "                                                 colsample_bytree=0.5,\n",
       "                                                 eval_metric='logloss',\n",
       "                                                 n_estimators=70,\n",
       "                                                 random_state=1,\n",
       "                                                 subsample=0.7))"
      ]
     },
     "execution_count": 54,
     "metadata": {},
     "output_type": "execute_result"
    }
   ],
   "source": [
    "estimators = [('Random Forest',rf_tuned), ('Gradient Boosting',gbc_tuned), ('Decision Tree',dtree_estimator)]\n",
    "\n",
    "final_estimator = xgb_tuned\n",
    "\n",
    "stacking_classifier= StackingClassifier(estimators=estimators,final_estimator=final_estimator)\n",
    "\n",
    "stacking_classifier.fit(x_train,y_train)"
   ]
  },
  {
   "cell_type": "code",
   "execution_count": 55,
   "metadata": {
    "colab": {
     "base_uri": "https://localhost:8080/",
     "height": 390
    },
    "id": "_LGSHr36_M54",
    "outputId": "e5bcf8fe-8a49-49e9-b456-747100b2e02a"
   },
   "outputs": [
    {
     "name": "stdout",
     "output_type": "stream",
     "text": [
      "Training performance:\n",
      "    Accuracy    Recall  Precision        F1\n",
      "0  0.757008  0.878675   0.782072  0.827564\n",
      "Testing performance:\n",
      "    Accuracy    Recall  Precision        F1\n",
      "0  0.748168  0.870127   0.782677  0.824088\n"
     ]
    },
    {
     "data": {
      "image/png": "[encoded data removed]",
      "text/plain": [
       "<Figure size 432x288 with 2 Axes>"
      ]
     },
     "metadata": {
      "needs_background": "light"
     },
     "output_type": "display_data"
    }
   ],
   "source": [
    "stacking_classifier_model_train_perf=model_performance_classification_sklearn(stacking_classifier,x_train,y_train)\n",
    "print(\"Training performance:\\n\",stacking_classifier_model_train_perf)\n",
    "stacking_classifier_model_test_perf=model_performance_classification_sklearn(stacking_classifier,x_test,y_test)\n",
    "print(\"Testing performance:\\n\",stacking_classifier_model_test_perf)\n",
    "\n",
    "#Creating confusion matrix\n",
    "confusion_matrix_sklearn(stacking_classifier,x_test,y_test)"
   ]
  },
  {
   "cell_type": "markdown",
   "metadata": {
    "id": "qjV8StZ5_2d-"
   },
   "source": [
    "* The stacking classifier is giving a slightly similar performance as compared to XGBoost with slightly less overfitting\n",
    "* The F1 score in both models is 0.824"
   ]
  },
  {
   "cell_type": "markdown",
   "metadata": {
    "id": "C06ZlH51AK8j"
   },
   "source": [
    "###**Comparing all models**"
   ]
  },
  {
   "cell_type": "code",
   "execution_count": 56,
   "metadata": {
    "colab": {
     "base_uri": "https://localhost:8080/",
     "height": 309
    },
    "id": "QQAcrnlK_2Fe",
    "outputId": "8f501310-7dcd-4c21-82ed-77f554b248ee"
   },
   "outputs": [
    {
     "name": "stdout",
     "output_type": "stream",
     "text": [
      "Training performance comparison:\n"
     ]
    },
    {
     "data": {
      "text/html": [
       "\n",
       "  <div id=\"df-45b2897c-aa08-4fe4-8973-dbeb54822665\">\n",
       "    <div class=\"colab-df-container\">\n",
       "      <div>\n",
       "<style scoped>\n",
       "    .dataframe tbody tr th:only-of-type {\n",
       "        vertical-align: middle;\n",
       "    }\n",
       "\n",
       "    .dataframe tbody tr th {\n",
       "        vertical-align: top;\n",
       "    }\n",
       "\n",
       "    .dataframe thead th {\n",
       "        text-align: right;\n",
       "    }\n",
       "</style>\n",
       "<table border=\"1\" class=\"dataframe\">\n",
       "  <thead>\n",
       "    <tr style=\"text-align: right;\">\n",
       "      <th></th>\n",
       "      <th>Decision Tree</th>\n",
       "      <th>Decision Tree Estimator</th>\n",
       "      <th>Random Forest Estimator</th>\n",
       "      <th>Random Forest Tuned</th>\n",
       "      <th>Bagging Classifier</th>\n",
       "      <th>Bagging Estimator Tuned</th>\n",
       "      <th>Adaboost Classifier</th>\n",
       "      <th>Adabosst Classifier Tuned</th>\n",
       "      <th>Gradient Boost Classifier</th>\n",
       "      <th>Gradient Boost Classifier Tuned</th>\n",
       "      <th>XGBoost Classifier</th>\n",
       "      <th>XGBoost Classifier Tuned</th>\n",
       "      <th>Stacking Classifier</th>\n",
       "    </tr>\n",
       "  </thead>\n",
       "  <tbody>\n",
       "    <tr>\n",
       "      <th>Accuracy</th>\n",
       "      <td>1.0</td>\n",
       "      <td>0.725275</td>\n",
       "      <td>0.999888</td>\n",
       "      <td>0.769119</td>\n",
       "      <td>0.984245</td>\n",
       "      <td>0.999215</td>\n",
       "      <td>0.737329</td>\n",
       "      <td>0.745515</td>\n",
       "      <td>0.756279</td>\n",
       "      <td>0.751682</td>\n",
       "      <td>0.754597</td>\n",
       "      <td>0.750617</td>\n",
       "      <td>0.757008</td>\n",
       "    </tr>\n",
       "    <tr>\n",
       "      <th>Recall</th>\n",
       "      <td>1.0</td>\n",
       "      <td>0.908837</td>\n",
       "      <td>1.000000</td>\n",
       "      <td>0.895657</td>\n",
       "      <td>0.985130</td>\n",
       "      <td>1.000000</td>\n",
       "      <td>0.886617</td>\n",
       "      <td>0.884420</td>\n",
       "      <td>0.875549</td>\n",
       "      <td>0.879267</td>\n",
       "      <td>0.873437</td>\n",
       "      <td>0.876732</td>\n",
       "      <td>0.878675</td>\n",
       "    </tr>\n",
       "    <tr>\n",
       "      <th>Precision</th>\n",
       "      <td>1.0</td>\n",
       "      <td>0.737893</td>\n",
       "      <td>0.999831</td>\n",
       "      <td>0.786191</td>\n",
       "      <td>0.991075</td>\n",
       "      <td>0.998819</td>\n",
       "      <td>0.758401</td>\n",
       "      <td>0.767505</td>\n",
       "      <td>0.782881</td>\n",
       "      <td>0.776236</td>\n",
       "      <td>0.782174</td>\n",
       "      <td>0.776373</td>\n",
       "      <td>0.782072</td>\n",
       "    </tr>\n",
       "    <tr>\n",
       "      <th>F1</th>\n",
       "      <td>1.0</td>\n",
       "      <td>0.814492</td>\n",
       "      <td>0.999916</td>\n",
       "      <td>0.837362</td>\n",
       "      <td>0.988094</td>\n",
       "      <td>0.999409</td>\n",
       "      <td>0.817513</td>\n",
       "      <td>0.821825</td>\n",
       "      <td>0.826626</td>\n",
       "      <td>0.824545</td>\n",
       "      <td>0.825290</td>\n",
       "      <td>0.823506</td>\n",
       "      <td>0.827564</td>\n",
       "    </tr>\n",
       "  </tbody>\n",
       "</table>\n",
       "</div>\n",
       "      <button class=\"colab-df-convert\" onclick=\"convertToInteractive('df-45b2897c-aa08-4fe4-8973-dbeb54822665')\"\n",
       "              title=\"Convert this dataframe to an interactive table.\"\n",
       "              style=\"display:none;\">\n",
       "        \n",
       "  <svg xmlns=\"http://www.w3.org/2000/svg\" height=\"24px\"viewBox=\"0 0 24 24\"\n",
       "       width=\"24px\">\n",
       "    <path d=\"M0 0h24v24H0V0z\" fill=\"none\"/>\n",
       "    <path d=\"M18.56 5.44l.94 2.06.94-2.06 2.06-.94-2.06-.94-.94-2.06-.94 2.06-2.06.94zm-11 1L8.5 8.5l.94-2.06 2.06-.94-2.06-.94L8.5 2.5l-.94 2.06-2.06.94zm10 10l.94 2.06.94-2.06 2.06-.94-2.06-.94-.94-2.06-.94 2.06-2.06.94z\"/><path d=\"M17.41 7.96l-1.37-1.37c-.4-.4-.92-.59-1.43-.59-.52 0-1.04.2-1.43.59L10.3 9.45l-7.72 7.72c-.78.78-.78 2.05 0 2.83L4 21.41c.39.39.9.59 1.41.59.51 0 1.02-.2 1.41-.59l7.78-7.78 2.81-2.81c.8-.78.8-2.07 0-2.86zM5.41 20L4 18.59l7.72-7.72 1.47 1.35L5.41 20z\"/>\n",
       "  </svg>\n",
       "      </button>\n",
       "      \n",
       "  <style>\n",
       "    .colab-df-container {\n",
       "      display:flex;\n",
       "      flex-wrap:wrap;\n",
       "      gap: 12px;\n",
       "    }\n",
       "\n",
       "    .colab-df-convert {\n",
       "      background-color: #E8F0FE;\n",
       "      border: none;\n",
       "      border-radius: 50%;\n",
       "      cursor: pointer;\n",
       "      display: none;\n",
       "      fill: #1967D2;\n",
       "      height: 32px;\n",
       "      padding: 0 0 0 0;\n",
       "      width: 32px;\n",
       "    }\n",
       "\n",
       "    .colab-df-convert:hover {\n",
       "      background-color: #E2EBFA;\n",
       "      box-shadow: 0px 1px 2px rgba(60, 64, 67, 0.3), 0px 1px 3px 1px rgba(60, 64, 67, 0.15);\n",
       "      fill: #174EA6;\n",
       "    }\n",
       "\n",
       "    [theme=dark] .colab-df-convert {\n",
       "      background-color: #3B4455;\n",
       "      fill: #D2E3FC;\n",
       "    }\n",
       "\n",
       "    [theme=dark] .colab-df-convert:hover {\n",
       "      background-color: #434B5C;\n",
       "      box-shadow: 0px 1px 3px 1px rgba(0, 0, 0, 0.15);\n",
       "      filter: drop-shadow(0px 1px 2px rgba(0, 0, 0, 0.3));\n",
       "      fill: #FFFFFF;\n",
       "    }\n",
       "  </style>\n",
       "\n",
       "      <script>\n",
       "        const buttonEl =\n",
       "          document.querySelector('#df-45b2897c-aa08-4fe4-8973-dbeb54822665 button.colab-df-convert');\n",
       "        buttonEl.style.display =\n",
       "          google.colab.kernel.accessAllowed ? 'block' : 'none';\n",
       "\n",
       "        async function convertToInteractive(key) {\n",
       "          const element = document.querySelector('#df-45b2897c-aa08-4fe4-8973-dbeb54822665');\n",
       "          const dataTable =\n",
       "            await google.colab.kernel.invokeFunction('convertToInteractive',\n",
       "                                                     [key], {});\n",
       "          if (!dataTable) return;\n",
       "\n",
       "          const docLinkHtml = 'Like what you see? Visit the ' +\n",
       "            '<a target=\"_blank\" href=https://colab.research.google.com/notebooks/data_table.ipynb>data table notebook</a>'\n",
       "            + ' to learn more about interactive tables.';\n",
       "          element.innerHTML = '';\n",
       "          dataTable['output_type'] = 'display_data';\n",
       "          await google.colab.output.renderOutput(dataTable, element);\n",
       "          const docLink = document.createElement('div');\n",
       "          docLink.innerHTML = docLinkHtml;\n",
       "          element.appendChild(docLink);\n",
       "        }\n",
       "      </script>\n",
       "    </div>\n",
       "  </div>\n",
       "  "
      ],
      "text/plain": [
       "           Decision Tree  Decision Tree Estimator  Random Forest Estimator  \\\n",
       "Accuracy             1.0                 0.725275                 0.999888   \n",
       "Recall               1.0                 0.908837                 1.000000   \n",
       "Precision            1.0                 0.737893                 0.999831   \n",
       "F1                   1.0                 0.814492                 0.999916   \n",
       "\n",
       "           Random Forest Tuned  Bagging Classifier  Bagging Estimator Tuned  \\\n",
       "Accuracy              0.769119            0.984245                 0.999215   \n",
       "Recall                0.895657            0.985130                 1.000000   \n",
       "Precision             0.786191            0.991075                 0.998819   \n",
       "F1                    0.837362            0.988094                 0.999409   \n",
       "\n",
       "           Adaboost Classifier  Adabosst Classifier Tuned  \\\n",
       "Accuracy              0.737329                   0.745515   \n",
       "Recall                0.886617                   0.884420   \n",
       "Precision             0.758401                   0.767505   \n",
       "F1                    0.817513                   0.821825   \n",
       "\n",
       "           Gradient Boost Classifier  Gradient Boost Classifier Tuned  \\\n",
       "Accuracy                    0.756279                         0.751682   \n",
       "Recall                      0.875549                         0.879267   \n",
       "Precision                   0.782881                         0.776236   \n",
       "F1                          0.826626                         0.824545   \n",
       "\n",
       "           XGBoost Classifier  XGBoost Classifier Tuned  Stacking Classifier  \n",
       "Accuracy             0.754597                  0.750617             0.757008  \n",
       "Recall               0.873437                  0.876732             0.878675  \n",
       "Precision            0.782174                  0.776373             0.782072  \n",
       "F1                   0.825290                  0.823506             0.827564  "
      ]
     },
     "execution_count": 56,
     "metadata": {},
     "output_type": "execute_result"
    }
   ],
   "source": [
    "models_train_comp_df = pd.concat(\n",
    "    [d_tree_model_train_perf.T,dtree_estimator_model_train_perf.T,rf_estimator_model_train_perf.T,rf_tuned_model_train_perf.T,\n",
    "     bagging_classifier_model_train_perf.T,bagging_estimator_tuned_model_train_perf.T,ab_classifier_model_train_perf.T,\n",
    "     abc_tuned_model_train_perf.T,gb_classifier_model_train_perf.T,gbc_tuned_model_train_perf.T,xgb_classifier_model_train_perf.T,\n",
    "    xgb_tuned_model_train_perf.T,stacking_classifier_model_train_perf.T],\n",
    "    axis=1,\n",
    ")\n",
    "models_train_comp_df.columns = [\n",
    "    \"Decision Tree\",\n",
    "    \"Decision Tree Estimator\",\n",
    "    \"Random Forest Estimator\",\n",
    "    \"Random Forest Tuned\",\n",
    "    \"Bagging Classifier\",\n",
    "    \"Bagging Estimator Tuned\",\n",
    "    \"Adaboost Classifier\",\n",
    "    \"Adabosst Classifier Tuned\",\n",
    "    \"Gradient Boost Classifier\",\n",
    "    \"Gradient Boost Classifier Tuned\",\n",
    "    \"XGBoost Classifier\",\n",
    "    \"XGBoost Classifier Tuned\",\n",
    "    \"Stacking Classifier\"]\n",
    "print(\"Training performance comparison:\")\n",
    "models_train_comp_df"
   ]
  },
  {
   "cell_type": "markdown",
   "metadata": {
    "id": "PK43xfc2ArUd"
   },
   "source": [
    "* The majority of the models such as Decision Tree, Bagging, Tuned Bagging, and Random Forest estimator are overfitting the training data in terms of f1-score.\n",
    "* The remaining models perform almost similarly in terms of F1-score.\n",
    "* The base Gradient Boosting classifier performs the best on the testing dataset, with an 0.83 F1 score."
   ]
  },
  {
   "cell_type": "markdown",
   "metadata": {
    "id": "bpDcCE9vBwgd"
   },
   "source": [
    "####**Feature importance of Gradient Boosting Classifier**"
   ]
  },
  {
   "cell_type": "code",
   "execution_count": 58,
   "metadata": {
    "colab": {
     "base_uri": "https://localhost:8080/",
     "height": 531
    },
    "id": "iw0_aiM9BwDI",
    "outputId": "de80bb1b-277e-4fb4-ee8c-a65829e77659"
   },
   "outputs": [
    {
     "data": {
      "image/png": "[encoded data removed]",
      "text/plain": [
       "<Figure size 864x864 with 1 Axes>"
      ]
     },
     "metadata": {
      "needs_background": "light"
     },
     "output_type": "display_data"
    }
   ],
   "source": [
    "feature_names = x_train.columns\n",
    "importances = gb_classifier.feature_importances_\n",
    "indices = np.argsort(importances)\n",
    "\n",
    "plt.figure(figsize=(12,12))\n",
    "plt.title('Feature Importances')\n",
    "plt.barh(range(len(indices)), importances[indices], color='violet', align='center')\n",
    "plt.yticks(range(len(indices)), [feature_names[i] for i in indices])\n",
    "plt.xlabel('Relative Importance')\n",
    "plt.show()"
   ]
  },
  {
   "cell_type": "markdown",
   "metadata": {
    "id": "rzpdRqlbEj-B"
   },
   "source": [
    "###**Actionable Insights and Recommendations**"
   ]
  },
  {
   "cell_type": "markdown",
   "metadata": {
    "id": "7Rg_zO8wEn7n"
   },
   "source": [
    "####**Insights** \n",
    "* As shown above, three most critical components for pre-screening an applicant are:\n",
    "1.  Education level : to be specific at least a highschool diploma. The more educated an applicant is, the higher probablity of getting visa certification.\n",
    "2. Previous job experience: If an applicant has a previous job experience, chances are the applicant will be visa certified.\n",
    "3. Prevailing wage : \n",
    "The higher the prevailing wage of the job, the more likely the applicant will be visa certified, to specific for hourly wage.\n",
    "* Location wise, European  applicants have the highest chances of visa certification.\n",
    "* Applications to work in the Midwest region are more likely to be certified than the applications for the employment in other regions.\n",
    "* Surprisingly, full time position is not that of importance comapred to other factors for certification\n",
    "\n",
    "\n",
    "\n"
   ]
  },
  {
   "cell_type": "markdown",
   "metadata": {
    "id": "FjD8CoeSJf1L"
   },
   "source": [
    "###**Recommendations** "
   ]
  },
  {
   "cell_type": "markdown",
   "metadata": {
    "id": "a3E2AWj0JoKR"
   },
   "source": [
    "* The Gradient Boosting classifier performs the best of all the models, so this model is recommended.\n",
    "* From the above model, OFLC can can processs visa certification application based on level of education, wage and job experience. \n",
    "  * Applicant who satisfy the above recommended requirements should be given priority. \n",
    "  * This can limit the amount of time and resources needed to approve employees coming to the US. \n",
    "* The OFLC should also specifiy the types of jobs that requires addition foregin employees to come and work in the US. \n",
    "  * This can help target the employees and limit the time to process the visa application as man power is needed in the country."
   ]
  }
 ],
 "metadata": {
  "colab": {
   "provenance": []
  },
  "kernelspec": {
   "display_name": "Python 3 (ipykernel)",
   "language": "python",
   "name": "python3"
  },
  "language_info": {
   "codemirror_mode": {
    "name": "ipython",
    "version": 3
   },
   "file_extension": ".py",
   "mimetype": "text/x-python",
   "name": "python",
   "nbconvert_exporter": "python",
   "pygments_lexer": "ipython3",
   "version": "3.9.12"
  }
 },
 "nbformat": 4,
 "nbformat_minor": 1
}
